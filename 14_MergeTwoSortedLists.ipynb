{
  "nbformat": 4,
  "nbformat_minor": 0,
  "metadata": {
    "colab": {
      "name": "14-MergeTwoSortedLists.ipynb",
      "provenance": [],
      "collapsed_sections": [],
      "authorship_tag": "ABX9TyOIxwG+kXtHMtGOBSUG2IFY",
      "include_colab_link": true
    },
    "kernelspec": {
      "name": "python3",
      "display_name": "Python 3"
    },
    "language_info": {
      "name": "python"
    }
  },
  "cells": [
    {
      "cell_type": "markdown",
      "metadata": {
        "id": "view-in-github",
        "colab_type": "text"
      },
      "source": [
        "<a href=\"https://colab.research.google.com/github/s375301/python-algorithm-interview/blob/main/14_MergeTwoSortedLists.ipynb\" target=\"_parent\"><img src=\"https://colab.research.google.com/assets/colab-badge.svg\" alt=\"Open In Colab\"/></a>"
      ]
    },
    {
      "cell_type": "markdown",
      "metadata": {
        "id": "Bc1WUSTG9qj9"
      },
      "source": [
        "### Leetcode 21. Merge Two Sorted Lists\n",
        "#### _**input**_\n",
        "```py\n",
        "1->2->4, 1->3->4\n",
        "```\n",
        "#### _**output**_\n",
        "```py\n",
        "1->1->2->3->4->4\n",
        "```"
      ]
    },
    {
      "cell_type": "markdown",
      "metadata": {
        "id": "2RebBe40pfPU"
      },
      "source": [
        "## 풀이(1): recursive\n",
        "\n",
        "- (포인트) 정렬된 리스트"
      ]
    },
    {
      "cell_type": "code",
      "metadata": {
        "id": "BMUhPH-Sp775"
      },
      "source": [
        "class ListNode():\n",
        "    def __init__(self, val=0, next=None):\n",
        "        self.val = val\n",
        "        self.next = next\n",
        "\n",
        "def make_list(nums):\n",
        "    head = None\n",
        "    cur = None\n",
        "    \n",
        "    for num in nums:\n",
        "        if head:\n",
        "            cur.next = ListNode(val=num)\n",
        "            cur = cur.next\n",
        "        else:\n",
        "            head = ListNode(val=num)\n",
        "            cur = head\n",
        "    return head\n",
        "\n",
        "def print_list(head):\n",
        "    while head:\n",
        "        print(head.val)\n",
        "        head = head.next"
      ],
      "execution_count": 10,
      "outputs": []
    },
    {
      "cell_type": "code",
      "metadata": {
        "colab": {
          "base_uri": "https://localhost:8080/"
        },
        "id": "eZSf36imtJak",
        "outputId": "fb104e1a-27d1-4384-f8f5-7fbea660ed9e"
      },
      "source": [
        "head = make_list([1, 2, 2, 1])\n",
        "print_list(head)"
      ],
      "execution_count": 11,
      "outputs": [
        {
          "output_type": "stream",
          "name": "stdout",
          "text": [
            "1\n",
            "2\n",
            "2\n",
            "1\n"
          ]
        }
      ]
    },
    {
      "cell_type": "code",
      "metadata": {
        "id": "-JMjzSagp2MO",
        "colab": {
          "base_uri": "https://localhost:8080/"
        },
        "outputId": "66a87468-25e5-4ce6-9de4-f9d901fb8dfb"
      },
      "source": [
        "class Solution:\n",
        "    def mergeTwoLists(self, l1: ListNode, l2: ListNode) -> ListNode:\n",
        "        # variable swap\n",
        "        if not l1 or l2 and l1.val > l2.val:\n",
        "            l1, l2 = l2, l1\n",
        "        if l1:\n",
        "            l1.next = self.mergeTwoLists(l1.next, l2)\n",
        "        return l1\n",
        "\n",
        "solution = Solution()\n",
        "l1, l2 = make_list([1, 2, 4]), make_list([1, 3, 4])\n",
        "result: ListNode = solution.mergeTwoLists(l1, l2)\n",
        "print_list(result)"
      ],
      "execution_count": 17,
      "outputs": [
        {
          "output_type": "stream",
          "name": "stdout",
          "text": [
            "1\n",
            "1\n",
            "2\n",
            "3\n",
            "4\n",
            "4\n"
          ]
        }
      ]
    },
    {
      "cell_type": "markdown",
      "metadata": {
        "id": "Xa-3ARL6tjNA"
      },
      "source": [
        "### 연산의 순서\n",
        "\n",
        "1. 비교연산 >\n",
        "1. not l1\n",
        "1. and\n",
        "1. or\n",
        "\n",
        "따라서 \n",
        "```py\n",
        "if not l1 or l2 and l1.val > l2.val\n",
        "```\n",
        "```py\n",
        "if (not l1) or (l2 and l1.val > l2.val)\n",
        "```\n",
        "두 식의 결과는 같다."
      ]
    },
    {
      "cell_type": "markdown",
      "metadata": {
        "id": "FGMfjdxLy1dN"
      },
      "source": [
        "### 알고리즘 원리\n",
        "\n",
        "- 두 ListNode 중 작은 것이 l1(왼쪽) head에 대입된다.\n",
        "- l1.next에 l1.next와 l2 중에 작은 것이 대입된다.\n",
        "- 두 ListNode가 서로 자리가 바뀌거나/ 작은 ListNode가 .next 메서드로 넘어가면서 작은 순서로 l1 ListNode가 최종적으로 만들어진다.\n",
        "\n",
        "책의 표현\n",
        "- 순서대로 연결 리스트가 점점 하나로 병합되면서 엮인다.\n",
        "- 마지막에는 l1이 None이 되면서, 재귀가 끝나고 리턴을 시작한다. (백트래킹 구조)\n",
        "\n",
        "내가 헷갈리는 지점\n",
        "- l1과 l2가 재대입되는 것은 ListNode 전부가 아닌 현재 가르키고 있는 val만."
      ]
    },
    {
      "cell_type": "markdown",
      "metadata": {
        "id": "7fYWazZn0VeJ"
      },
      "source": [
        "### (참고) 연산자의 우선순위\n",
        "\n",
        "1. (): 괄호\n",
        "1. f(args, ...): 함수호출\n",
        "1. x[index:index]: 슬라이싱\n",
        "1. x[index]: 인덱싱\n",
        "1. x.attribute: 속성참조\n",
        "1. **: 지수\n",
        "1. ~x: 비트 연산 NOT\n",
        "1. +x, -x: 양수 및 음수\n",
        "1. *, /, %: 곱, 나눗셈, 나머지\n",
        "1. +, -: 덧셈, 뺄셈\n",
        "1. <<, >>: 비트 연산 시프트\n",
        "1. &: 비트 연산 AND\n",
        "1. ^: 비트 연산 XOR\n",
        "1. |: 비트 연산 OR\n",
        "1. in, not in, is, is not, <, <=, >, >=, <>, !=, ==: 비교 연산\n",
        "1. not x: bool 연산 not\n",
        "1. and: bool 연산 AND\n",
        "1. or: bool 연산 OR\n",
        "1. lambda: 익명함수\n",
        "\n",
        "**외우는 법**\n",
        "- 헷갈리나 모호한 경우 우선 괄호(0순위)\n",
        "- 함수호출, 슬라이싱, 배열 순\n",
        "- 지수처리나 비트 연산 NOT도 우선 순위가 높다."
      ]
    },
    {
      "cell_type": "markdown",
      "metadata": {
        "id": "3yeAQG1029F7"
      },
      "source": [
        "### 변수 스왑\n",
        "\n",
        "- Temporarily Variable (임시 변수)\n",
        "```py\n",
        "temp = a\n",
        "a = b\n",
        "b = temp\n",
        "```\n",
        "```Java\n",
        "int a = 1;\n",
        "int b = 2;\n",
        "int temp;\n",
        "temp = a;\n",
        "a = b;\n",
        "b = temp;\n",
        "```\n",
        "- Multiple Assignment (다중 할당) in python\n",
        "```py\n",
        "a: int = 1\n",
        "b: int = 1\n",
        "a, b = b, a\n",
        "```\n",
        "- swap function in C++ (STL)\n",
        "```C++\n",
        "int a = 1;\n",
        "int b = 2;\n",
        "std::swap(a, b);\n",
        "```\n",
        "- 숫자 자료형\n",
        "```py\n",
        "x: int = 9\n",
        "y: int = 4\n",
        "x += y\n",
        "y = x - y\n",
        "x -= y\n",
        "```\n",
        "  - x=9, y=4 => x=4, y=9"
      ]
    }
  ]
}