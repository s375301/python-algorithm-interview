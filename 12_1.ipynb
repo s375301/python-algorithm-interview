{
  "nbformat": 4,
  "nbformat_minor": 0,
  "metadata": {
    "colab": {
      "name": "12-1.ipynb",
      "provenance": [],
      "collapsed_sections": [],
      "authorship_tag": "ABX9TyPEeHR/tWEZXJ0m8S0OhTPb",
      "include_colab_link": true
    },
    "kernelspec": {
      "name": "python3",
      "display_name": "Python 3"
    },
    "language_info": {
      "name": "python"
    }
  },
  "cells": [
    {
      "cell_type": "markdown",
      "metadata": {
        "id": "view-in-github",
        "colab_type": "text"
      },
      "source": [
        "<a href=\"https://colab.research.google.com/github/s375301/python-algorithm-interview/blob/main/12_1.ipynb\" target=\"_parent\"><img src=\"https://colab.research.google.com/assets/colab-badge.svg\" alt=\"Open In Colab\"/></a>"
      ]
    },
    {
      "cell_type": "markdown",
      "metadata": {
        "id": "nG4prilOoM4y"
      },
      "source": [
        "### Leetcode 121. Best Time to Buy and Sell Stock\n",
        "\n",
        "#### *input*\n",
        "```py\n",
        "[7, 1, 5, 3, 6, 4]\n",
        "```\n",
        "#### *output*\n",
        "```py\n",
        "5\n",
        "```"
      ]
    },
    {
      "cell_type": "code",
      "metadata": {
        "colab": {
          "base_uri": "https://localhost:8080/"
        },
        "id": "0DKEs3TUpbV2",
        "outputId": "91683b78-bd21-44a4-edce-d3c0b7fd51d8"
      },
      "source": [
        "i = 0\n",
        "\n",
        "for price in [7, 1, 5, 3, 6, 4]:\n",
        "    print(i, price)\n",
        "    i += 1"
      ],
      "execution_count": 4,
      "outputs": [
        {
          "output_type": "stream",
          "text": [
            "0 7\n",
            "1 1\n",
            "2 5\n",
            "3 3\n",
            "4 6\n",
            "5 4\n"
          ],
          "name": "stdout"
        }
      ]
    },
    {
      "cell_type": "code",
      "metadata": {
        "id": "6krH2lVFplxs"
      },
      "source": [
        "# for문이 종료된 이후에도 i가 남아있기 때문에 이상적이지 않다.\n",
        "# enumerate() 함수는 기본적으로 인덱스와 원소로 이루어진 터플(tuple)을 만들준다."
      ],
      "execution_count": 8,
      "outputs": []
    },
    {
      "cell_type": "markdown",
      "metadata": {
        "id": "eMQnI50qpz9g"
      },
      "source": [
        "[Ref](https://www.daleseo.com/python-enumerate/)"
      ]
    },
    {
      "cell_type": "code",
      "metadata": {
        "colab": {
          "base_uri": "https://localhost:8080/"
        },
        "id": "vRPhYsqipAIi",
        "outputId": "ed6c707d-4377-4160-f77b-4ee1ea09787b"
      },
      "source": [
        "for i, price in enumerate([7, 1, 5, 3, 6, 4]):\n",
        "    # i stands for index, while price for values\n",
        "    print(i, price)"
      ],
      "execution_count": 3,
      "outputs": [
        {
          "output_type": "stream",
          "text": [
            "0 7\n",
            "1 1\n",
            "2 5\n",
            "3 3\n",
            "4 6\n",
            "5 4\n"
          ],
          "name": "stdout"
        }
      ]
    },
    {
      "cell_type": "code",
      "metadata": {
        "colab": {
          "base_uri": "https://localhost:8080/"
        },
        "id": "c1DgQoG9nfEb",
        "outputId": "f7e2c347-32c3-4bcc-9c7f-5c844d1daa21"
      },
      "source": [
        "class Solution:\n",
        "    def maxProfit(self, prices: list) -> int:\n",
        "        max_price = 0\n",
        "\n",
        "        for i, price in enumerate(prices):\n",
        "            for j in range(i, len(prices)):\n",
        "                max_price = max(prices[j] - price, max_price)\n",
        "        \n",
        "        return max_price\n",
        "\n",
        "test_case: list = [7, 1, 5, 3, 6, 4]\n",
        "solution = Solution()\n",
        "result: int = solution.maxProfit(test_case)\n",
        "result"
      ],
      "execution_count": 11,
      "outputs": [
        {
          "output_type": "execute_result",
          "data": {
            "text/plain": [
              "5"
            ]
          },
          "metadata": {
            "tags": []
          },
          "execution_count": 11
        }
      ]
    },
    {
      "cell_type": "code",
      "metadata": {
        "id": "3xzeSbwUoLB6"
      },
      "source": [
        "# 결국 i와 len(prices) 모두 index를 뜻하는 인자이다.\n",
        "# 이 코드의 한계는 O(n^2)의 시간 복잡도를 갖는다는 점이다."
      ],
      "execution_count": null,
      "outputs": []
    }
  ]
}