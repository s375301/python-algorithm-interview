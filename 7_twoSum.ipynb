{
  "nbformat": 4,
  "nbformat_minor": 0,
  "metadata": {
    "colab": {
      "name": "7-twoSum.ipynb",
      "provenance": [],
      "collapsed_sections": [],
      "authorship_tag": "ABX9TyO8bHlZ5HTZbT8ZrxWdRPn1",
      "include_colab_link": true
    },
    "kernelspec": {
      "name": "python3",
      "display_name": "Python 3"
    },
    "language_info": {
      "name": "python"
    }
  },
  "cells": [
    {
      "cell_type": "markdown",
      "metadata": {
        "id": "view-in-github",
        "colab_type": "text"
      },
      "source": [
        "<a href=\"https://colab.research.google.com/github/s375301/python-algorithm-interview/blob/main/7_twoSum.ipynb\" target=\"_parent\"><img src=\"https://colab.research.google.com/assets/colab-badge.svg\" alt=\"Open In Colab\"/></a>"
      ]
    },
    {
      "cell_type": "markdown",
      "metadata": {
        "id": "92aRXc1nwSpr"
      },
      "source": [
        "### Leetcode 1. Two Sum\n",
        "\n",
        "#### *input*\n",
        "```py\n",
        "nums = [2, 7, 11, 15], target = 9\n",
        "```\n",
        "#### *output*\n",
        "```py\n",
        "[0, 1]\n",
        "```\n",
        "#### *description*\n",
        "```py\n",
        "nums[0] + nums[1] = 2 + 7 = 9\n",
        "```"
      ]
    },
    {
      "cell_type": "code",
      "metadata": {
        "colab": {
          "base_uri": "https://localhost:8080/"
        },
        "id": "A73nrydTvPkI",
        "outputId": "07438d45-04e6-4534-c9ef-b9db5cfc1f38"
      },
      "source": [
        "# on my own\n",
        "\n",
        "class Solution:\n",
        "    def TwoSum(self, nums:list, target:int) -> int:\n",
        "        for i, num in enumerate(nums):\n",
        "            for j in range(i, len(nums)): # point1 : exclude i by start point (i + 1)\n",
        "                nums[i] + nums[j] == target # point2 : if statement missing\n",
        "        return [i, j] # point3 : (return) Indent mistake\n",
        "\n",
        "solution = Solution()\n",
        "test_case: list = [2, 7, 11, 15]\n",
        "target: int = 9\n",
        "result: int = solution.TwoSum(test_case, target)\n",
        "result"
      ],
      "execution_count": null,
      "outputs": [
        {
          "output_type": "execute_result",
          "data": {
            "text/plain": [
              "[3, 3]"
            ]
          },
          "metadata": {
            "tags": []
          },
          "execution_count": 11
        }
      ]
    },
    {
      "cell_type": "code",
      "metadata": {
        "colab": {
          "base_uri": "https://localhost:8080/"
        },
        "id": "iCFv487UwRXT",
        "outputId": "eb4b2ecc-4584-4c61-9350-1c67f98e8438"
      },
      "source": [
        "# 풀이(1): Brute Force\n",
        "\n",
        "class Solution:\n",
        "    def twoSum(self, nums: list, target: int) -> list:\n",
        "        for i in range(len(nums)):\n",
        "            for j in range(i + 1, len(nums)):\n",
        "                if nums[i] + nums[j] == target:\n",
        "                    return [i, j]\n",
        "\n",
        "solution = Solution()\n",
        "test_case: list = [2, 7, 11, 15]\n",
        "target: int = 9\n",
        "result: int = solution.twoSum(test_case, target)\n",
        "result"
      ],
      "execution_count": null,
      "outputs": [
        {
          "output_type": "execute_result",
          "data": {
            "text/plain": [
              "[0, 1]"
            ]
          },
          "metadata": {
            "tags": []
          },
          "execution_count": 10
        }
      ]
    },
    {
      "cell_type": "code",
      "metadata": {
        "id": "O5EJRRq1yszG"
      },
      "source": [
        "# Time Complexity O(n^2)"
      ],
      "execution_count": null,
      "outputs": []
    },
    {
      "cell_type": "code",
      "metadata": {
        "colab": {
          "base_uri": "https://localhost:8080/"
        },
        "id": "PKuewMWvznZR",
        "outputId": "b9994c86-1093-4452-a510-c1ad7ab335b2"
      },
      "source": [
        "# 풀이(2): Explore with in\n",
        "\n",
        "class Solution:\n",
        "    def twoSum(self, nums:list, target:int) -> list:\n",
        "        for i, n in enumerate(nums):\n",
        "            complement = target - n\n",
        "\n",
        "            if complement in nums[i + 1:]: # Indent\n",
        "                return [nums.index(n), nums[i + 1:].index(complement) + (i + 1)]\n",
        "                # return [i, nums[i + 1:].index(complement) + (i + 1)]\n",
        "                # return [nums.index(n), nums.index(complement)]\n",
        "\n",
        "solution = Solution()\n",
        "test_case: list = [2, 7, 11, 15]\n",
        "target: int = 9\n",
        "result: int = solution.twoSum(test_case, target)\n",
        "result"
      ],
      "execution_count": null,
      "outputs": [
        {
          "output_type": "execute_result",
          "data": {
            "text/plain": [
              "[0, 1]"
            ]
          },
          "metadata": {
            "tags": []
          },
          "execution_count": 26
        }
      ]
    },
    {
      "cell_type": "code",
      "metadata": {
        "id": "Vy19aT7m0Jkq"
      },
      "source": [
        "# still Time Complexity O(n^2)\n",
        "# but in() function is much more faster than former one"
      ],
      "execution_count": null,
      "outputs": []
    },
    {
      "cell_type": "code",
      "metadata": {
        "id": "Zk-AbcwwAN84"
      },
      "source": [
        "# 풀이(3): using key in dictionary"
      ],
      "execution_count": null,
      "outputs": []
    },
    {
      "cell_type": "code",
      "metadata": {
        "colab": {
          "base_uri": "https://localhost:8080/"
        },
        "id": "8faFubGOAQhS",
        "outputId": "3153a296-2bed-4a69-953e-06e69f038e92"
      },
      "source": [
        "nums: list = [2, 7, 11, 15]\n",
        "target: int = 9\n",
        "\n",
        "nums_map = {}\n",
        "\n",
        "for i, num in enumerate(nums):\n",
        "    nums_map[num] = i\n",
        "\n",
        "nums_map"
      ],
      "execution_count": null,
      "outputs": [
        {
          "output_type": "execute_result",
          "data": {
            "text/plain": [
              "{2: 0, 7: 1, 11: 2, 15: 3}"
            ]
          },
          "metadata": {
            "tags": []
          },
          "execution_count": 41
        }
      ]
    },
    {
      "cell_type": "code",
      "metadata": {
        "colab": {
          "base_uri": "https://localhost:8080/"
        },
        "id": "1OqQkwIZA1oR",
        "outputId": "5b957dcf-543f-4d9c-c35d-c00593c6ce41"
      },
      "source": [
        "for i, num in enumerate(nums):\n",
        "    print(num, i)\n",
        "    print(target - num)"
      ],
      "execution_count": null,
      "outputs": [
        {
          "output_type": "stream",
          "text": [
            "2 0\n",
            "7\n",
            "7 1\n",
            "2\n",
            "11 2\n",
            "-2\n",
            "15 3\n",
            "-6\n"
          ],
          "name": "stdout"
        }
      ]
    },
    {
      "cell_type": "code",
      "metadata": {
        "colab": {
          "base_uri": "https://localhost:8080/"
        },
        "id": "kcL8Whwj1CBS",
        "outputId": "3bbe40b1-0006-45ee-8095-139a8c893b80"
      },
      "source": [
        "class Solution:\n",
        "    def twoSum(self, nums:list, target:int) -> int:\n",
        "        nums_map = {}\n",
        "\n",
        "        # 키와 값을 바꿔서 딕셔너리에 저장\n",
        "        for i, num in enumerate(nums):\n",
        "            nums_map[num] = i\n",
        "        \n",
        "        # 타겟에서 첫번째 수를 뺀 결과를 키로 조회\n",
        "        for i, num in enumerate(nums):\n",
        "\n",
        "            # 조건1 : 두번째 수가 있는지, 조건2 : 같지 않을 것 \n",
        "            if target - num in nums_map and i != nums_map[target - num]:\n",
        "                return [i, nums_map[target - num]]\n",
        "\n",
        "solution = Solution()\n",
        "test_case: list = [2, 7, 11, 15]\n",
        "target: int = 9\n",
        "result: int = solution.twoSum(test_case, target)\n",
        "result"
      ],
      "execution_count": 1,
      "outputs": [
        {
          "output_type": "execute_result",
          "data": {
            "text/plain": [
              "[0, 1]"
            ]
          },
          "metadata": {},
          "execution_count": 1
        }
      ]
    },
    {
      "cell_type": "code",
      "metadata": {
        "id": "X4CSKb05NYXS"
      },
      "source": [
        "# 풀이(4): 조회 구조 개선\n",
        "\n",
        "class Solution:\n",
        "    def twoSum(self, nums: list, target: int) -> list:\n",
        "        nums_map = {}\n",
        "        # 불필요한 2개의 for문을 하나로 합치기\n",
        "        for i, num in enumerate(nums):\n",
        "            if (target - num) in nums_map:\n",
        "                return [nums_map[target - num], i]\n",
        "                nums_map[num] = i\n",
        "\n",
        "solution = Solution()\n",
        "test_case: list = [2, 7, 11, 15]\n",
        "target: int = 9\n",
        "result: int = solution.twoSum(test_case, target)\n",
        "result"
      ],
      "execution_count": 6,
      "outputs": []
    },
    {
      "cell_type": "code",
      "metadata": {
        "id": "XCv6TnWdOeTB"
      },
      "source": [
        "nums_map = {}"
      ],
      "execution_count": 18,
      "outputs": []
    },
    {
      "cell_type": "code",
      "metadata": {
        "id": "dZvrshS_OLW2"
      },
      "source": [
        "def twoSum(nums: list, target: int) -> list:\n",
        "        global nums_map\n",
        "        # 불필요한 2개의 for문을 하나로 합치기\n",
        "        for i, num in enumerate(nums):\n",
        "            if (target - num) in nums_map:\n",
        "                return [nums_map[target - num], i]\n",
        "            nums_map[num] = i"
      ],
      "execution_count": 21,
      "outputs": []
    },
    {
      "cell_type": "code",
      "metadata": {
        "colab": {
          "base_uri": "https://localhost:8080/"
        },
        "id": "Q5pw1DN0Oy8w",
        "outputId": "9ce48ae4-ec39-4006-8ae4-5561962fefc5"
      },
      "source": [
        "print(twoSum([2, 7, 11, 15], 9))"
      ],
      "execution_count": 22,
      "outputs": [
        {
          "output_type": "stream",
          "name": "stdout",
          "text": [
            "[0, 1]\n"
          ]
        }
      ]
    },
    {
      "cell_type": "code",
      "metadata": {
        "colab": {
          "base_uri": "https://localhost:8080/"
        },
        "id": "EozsA60qO9jJ",
        "outputId": "f239d867-dd34-4ee9-ae88-78cc76a63084"
      },
      "source": [
        "nums_map"
      ],
      "execution_count": 23,
      "outputs": [
        {
          "output_type": "execute_result",
          "data": {
            "text/plain": [
              "{2: 0}"
            ]
          },
          "metadata": {},
          "execution_count": 23
        }
      ]
    },
    {
      "cell_type": "code",
      "metadata": {
        "id": "jHBBZ43jPBMw"
      },
      "source": [
        "# 176: indent 오류 nums_map[num] = i 부분."
      ],
      "execution_count": 24,
      "outputs": []
    },
    {
      "cell_type": "code",
      "metadata": {
        "colab": {
          "base_uri": "https://localhost:8080/"
        },
        "id": "GAX35RdhPr_f",
        "outputId": "212f6e23-acf9-40f3-f8e9-df5447ea24e1"
      },
      "source": [
        "# 풀이(5): 투 포인터 이용\n",
        "\n",
        "class Solution:\n",
        "    def twoSum(self, nums: list, target: int) -> list:\n",
        "        left, right = 0, len(nums) - 1 # tuple pattern matching\n",
        "        nums.sort() # order, ascending\n",
        "        while not left == right:\n",
        "            # Sum < target, then left pointer to right\n",
        "            if nums[left] + nums[right] < target:\n",
        "                left += 1\n",
        "            \n",
        "            # Sum > target, then right pointer to left\n",
        "            elif nums[left] + nums[right] > target:\n",
        "                right -= 1\n",
        "            \n",
        "            else:\n",
        "                return [left, right]\n",
        "\n",
        "solution = Solution()\n",
        "test_case: list = [2, 7, 11, 15]\n",
        "target: int = 9\n",
        "result: int = solution.twoSum(test_case, target)\n",
        "result"
      ],
      "execution_count": 2,
      "outputs": [
        {
          "output_type": "execute_result",
          "data": {
            "text/plain": [
              "[0, 1]"
            ]
          },
          "metadata": {},
          "execution_count": 2
        }
      ]
    },
    {
      "cell_type": "code",
      "metadata": {
        "id": "thVWkbdZtSUb"
      },
      "source": [
        "# 투 포인터 구현으로 코드도 간결하고 이해도 쉬우며, 시간복잡도-O(n)-측면에서도 빠른속도가 기대된다."
      ],
      "execution_count": null,
      "outputs": []
    }
  ]
}