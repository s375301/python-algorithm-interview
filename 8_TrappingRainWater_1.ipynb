{
  "nbformat": 4,
  "nbformat_minor": 0,
  "metadata": {
    "colab": {
      "name": "8-TrappingRainWater-1.ipynb",
      "provenance": [],
      "collapsed_sections": [],
      "authorship_tag": "ABX9TyPHwMMskrBaCg47uH6eDb8k",
      "include_colab_link": true
    },
    "kernelspec": {
      "name": "python3",
      "display_name": "Python 3"
    },
    "language_info": {
      "name": "python"
    }
  },
  "cells": [
    {
      "cell_type": "markdown",
      "metadata": {
        "id": "view-in-github",
        "colab_type": "text"
      },
      "source": [
        "<a href=\"https://colab.research.google.com/github/s375301/python-algorithm-interview/blob/main/8_TrappingRainWater_1.ipynb\" target=\"_parent\"><img src=\"https://colab.research.google.com/assets/colab-badge.svg\" alt=\"Open In Colab\"/></a>"
      ]
    },
    {
      "cell_type": "markdown",
      "metadata": {
        "id": "2s4yq_7XuNNq"
      },
      "source": [
        "### Leetcode 42. Trapping Rain Water\n",
        "\n",
        "#### *input*\n",
        "```py\n",
        "[0, 1, 0, 2, 1, 0, 1, 3, 2, 1, 2, 1]\n",
        "```\n",
        "#### *output*\n",
        "```py\n",
        "[6]\n",
        "```"
      ]
    },
    {
      "cell_type": "markdown",
      "metadata": {
        "id": "5qPahvM2u6Pd"
      },
      "source": [
        "#### **문제의 포인트**\n",
        "\n",
        "* 이 문제는 높이와 너비를 차례대로 모두 살펴보면 O(n^2)에 풀이가 가능하다.\n",
        "* 하지만 시간 복잡도가 너무 높기 때문에 (1) 투 포인터나 (2) 스택으로 O(n) 풀이가 가능한 지 확인한다."
      ]
    },
    {
      "cell_type": "code",
      "metadata": {
        "id": "Ltkru5dluHha"
      },
      "source": [
        "# 풀이 1 : 투 포인터를 최대로 이동"
      ],
      "execution_count": null,
      "outputs": []
    },
    {
      "cell_type": "code",
      "metadata": {
        "id": "_E9ZGKdzu2qG"
      },
      "source": [
        "# 여기서 투 포인터 방법이란 왼쪽과 오른쪽 포인터가 최대점으로 이동하는 방식을 의미한다. (가장 높은 막대를 찾는 방법)"
      ],
      "execution_count": null,
      "outputs": []
    },
    {
      "cell_type": "code",
      "metadata": {
        "colab": {
          "base_uri": "https://localhost:8080/"
        },
        "id": "bjAMRhz6vTis",
        "outputId": "d2de0c69-fde5-4323-d3f5-81013a90ba70"
      },
      "source": [
        "class Solution:\n",
        "    def trap(self, height:list) -> list:\n",
        "        # exception\n",
        "        if not height:\n",
        "            return 0\n",
        "        \n",
        "        # initialize\n",
        "        volume = 0\n",
        "        left, right = 0, len(height) - 1\n",
        "        left_max, right_max = height[left], height[right]\n",
        "\n",
        "        while left < right:\n",
        "            left_max, right_max = max(height[left], left_max), max(height[right], right_max)\n",
        "\n",
        "            # 둘 중 하나는 반드시 큼\n",
        "            if left_max <= right_max:\n",
        "                volume += left_max - height[left]\n",
        "                left += 1\n",
        "            else:\n",
        "                volume += right_max - height[right]\n",
        "                right -= 1\n",
        "        \n",
        "        return volume\n",
        "\n",
        "test_case: list = [0, 1, 0, 2, 1, 0, 1, 3, 2, 1, 2, 1]\n",
        "solution = Solution()\n",
        "result: list = solution.trap(test_case)\n",
        "result"
      ],
      "execution_count": 3,
      "outputs": [
        {
          "output_type": "execute_result",
          "data": {
            "text/plain": [
              "6"
            ]
          },
          "metadata": {
            "tags": []
          },
          "execution_count": 3
        }
      ]
    }
  ]
}