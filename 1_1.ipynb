{
  "nbformat": 4,
  "nbformat_minor": 0,
  "metadata": {
    "colab": {
      "name": "1-1.ipynb",
      "provenance": [],
      "collapsed_sections": [],
      "authorship_tag": "ABX9TyMXz7GU3CpasleMO/QI+JbV",
      "include_colab_link": true
    },
    "kernelspec": {
      "name": "python3",
      "display_name": "Python 3"
    },
    "language_info": {
      "name": "python"
    }
  },
  "cells": [
    {
      "cell_type": "markdown",
      "metadata": {
        "id": "view-in-github",
        "colab_type": "text"
      },
      "source": [
        "<a href=\"https://colab.research.google.com/github/s375301/python-algorithm-interview/blob/main/1_1.ipynb\" target=\"_parent\"><img src=\"https://colab.research.google.com/assets/colab-badge.svg\" alt=\"Open In Colab\"/></a>"
      ]
    },
    {
      "cell_type": "code",
      "metadata": {
        "id": "fyv4Mtj5NY4a"
      },
      "source": [
        "import numpy as np"
      ],
      "execution_count": null,
      "outputs": []
    },
    {
      "cell_type": "markdown",
      "metadata": {
        "id": "Z7XuZPV4OABu"
      },
      "source": [
        "## **Chapter6. String Manipulation**"
      ]
    },
    {
      "cell_type": "markdown",
      "metadata": {
        "id": "wtwDpQJvO91E"
      },
      "source": [
        "### Leetcode 125. Valid Palindrome\n",
        "\n",
        "#### *input*\n",
        "```py\n",
        "\"A man, a plan, a canal: Panama\"\n",
        "```\n",
        "#### *output*\n",
        "```py\n",
        "True\n",
        "```\n",
        "\n",
        "#### *input*\n",
        "```py\n",
        "\"race a car\"\n",
        "```\n",
        "#### *output*\n",
        "```py\n",
        "false\n",
        "```"
      ]
    },
    {
      "cell_type": "code",
      "metadata": {
        "id": "q2nHmRfAQGo4"
      },
      "source": [
        "s = \"A man, a plan, a canal: Panama\""
      ],
      "execution_count": null,
      "outputs": []
    },
    {
      "cell_type": "code",
      "metadata": {
        "id": "2FrVe82BNrQM"
      },
      "source": [
        "strs = []\n",
        "for char in s:\n",
        "    if char.isalnum(): # isalnum()은 영문자, 숫자 여부를 판별하는 함수이며, 해당하는 문자(영문자와 숫자)만 반환한다.\n",
        "        strs.append(char.lower()) # 모두 소문자로 변환한다."
      ],
      "execution_count": null,
      "outputs": []
    },
    {
      "cell_type": "code",
      "metadata": {
        "colab": {
          "base_uri": "https://localhost:8080/"
        },
        "id": "3Ye7WpRkQFqw",
        "outputId": "4b511acf-88d4-4054-aacd-e2a861c5a595"
      },
      "source": [
        "strs, len(strs)"
      ],
      "execution_count": null,
      "outputs": [
        {
          "output_type": "execute_result",
          "data": {
            "text/plain": [
              "(['a',\n",
              "  'm',\n",
              "  'a',\n",
              "  'n',\n",
              "  'a',\n",
              "  'p',\n",
              "  'l',\n",
              "  'a',\n",
              "  'n',\n",
              "  'a',\n",
              "  'c',\n",
              "  'a',\n",
              "  'n',\n",
              "  'a',\n",
              "  'l',\n",
              "  'p',\n",
              "  'a',\n",
              "  'n',\n",
              "  'a',\n",
              "  'm',\n",
              "  'a'],\n",
              " 21)"
            ]
          },
          "metadata": {
            "tags": []
          },
          "execution_count": 11
        }
      ]
    },
    {
      "cell_type": "code",
      "metadata": {
        "id": "xALf8VmOQNho"
      },
      "source": [
        "while len(strs) > 1: # 문자열의 길이가 홀수여도 가능한 이유 : 1보다 클 조건\n",
        "    if strs.pop(0) != strs.pop(): False # pop() 함수에 의해 앞뒤로 같은 개수만큼 추출된다."
      ],
      "execution_count": null,
      "outputs": []
    },
    {
      "cell_type": "code",
      "metadata": {
        "id": "YGlkehpCQ4zv"
      },
      "source": [
        "def isPalindrom(self, s: str) -> bool:\n",
        "    strs = []\n",
        "    for char in s:\n",
        "        if char.isalnum():\n",
        "            strs.append(char.lower())\n",
        "\n",
        "    # 팰린드롬 여부 판별\n",
        "    while len(strs) > 1:\n",
        "        if strs.pop(0) != strs.pop():\n",
        "            return False\n",
        "    \n",
        "    return True"
      ],
      "execution_count": null,
      "outputs": []
    },
    {
      "cell_type": "code",
      "metadata": {
        "colab": {
          "base_uri": "https://localhost:8080/"
        },
        "id": "PXGRaNpwRsKN",
        "outputId": "2ec2c25a-bb7c-4e8d-8619-e261fc879884"
      },
      "source": [
        "isPalindrom([], s) # self 자리엔 리스트 선언이 필요하다."
      ],
      "execution_count": null,
      "outputs": [
        {
          "output_type": "execute_result",
          "data": {
            "text/plain": [
              "True"
            ]
          },
          "metadata": {
            "tags": []
          },
          "execution_count": 21
        }
      ]
    },
    {
      "cell_type": "code",
      "metadata": {
        "colab": {
          "base_uri": "https://localhost:8080/"
        },
        "id": "ijMiW9bcR2rM",
        "outputId": "500ec8fb-2553-4c07-8a8e-19bbb2bfa4fd"
      },
      "source": [
        "isPalindrom([], \"A man, a plan, a canal: Panama\"), isPalindrom([], \"race a car\")"
      ],
      "execution_count": null,
      "outputs": [
        {
          "output_type": "execute_result",
          "data": {
            "text/plain": [
              "(True, False)"
            ]
          },
          "metadata": {
            "tags": []
          },
          "execution_count": 20
        }
      ]
    }
  ]
}