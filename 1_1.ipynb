{
  "nbformat": 4,
  "nbformat_minor": 0,
  "metadata": {
    "colab": {
      "name": "1-1.ipynb",
      "provenance": [],
      "collapsed_sections": [],
      "authorship_tag": "ABX9TyNPUwyqQfCq8OYw8FvQbv1y",
      "include_colab_link": true
    },
    "kernelspec": {
      "name": "python3",
      "display_name": "Python 3"
    },
    "language_info": {
      "name": "python"
    }
  },
  "cells": [
    {
      "cell_type": "markdown",
      "metadata": {
        "id": "view-in-github",
        "colab_type": "text"
      },
      "source": [
        "<a href=\"https://colab.research.google.com/github/s375301/python-algorithm-interview/blob/main/1_1.ipynb\" target=\"_parent\"><img src=\"https://colab.research.google.com/assets/colab-badge.svg\" alt=\"Open In Colab\"/></a>"
      ]
    },
    {
      "cell_type": "code",
      "metadata": {
        "id": "fyv4Mtj5NY4a"
      },
      "source": [
        "import numpy as np"
      ],
      "execution_count": 29,
      "outputs": []
    },
    {
      "cell_type": "markdown",
      "metadata": {
        "id": "Z7XuZPV4OABu"
      },
      "source": [
        "## **Chapter6. String Manipulation**"
      ]
    },
    {
      "cell_type": "markdown",
      "metadata": {
        "id": "wtwDpQJvO91E"
      },
      "source": [
        "### Leetcode 125. Valid Palindrome\n",
        "\n",
        "#### *input*\n",
        "```py\n",
        "\"A man, a plan, a canal: Panama\"\n",
        "```\n",
        "#### *output*\n",
        "```py\n",
        "True\n",
        "```\n",
        "\n",
        "#### *input*\n",
        "```py\n",
        "\"race a car\"\n",
        "```\n",
        "#### *output*\n",
        "```py\n",
        "false\n",
        "```"
      ]
    },
    {
      "cell_type": "code",
      "metadata": {
        "id": "q2nHmRfAQGo4"
      },
      "source": [
        "s = \"A man, a plan, a canal: Panama\""
      ],
      "execution_count": 30,
      "outputs": []
    },
    {
      "cell_type": "code",
      "metadata": {
        "id": "2FrVe82BNrQM"
      },
      "source": [
        "strs = []\n",
        "for char in s:\n",
        "    if char.isalnum(): # isalnum()은 영문자, 숫자 여부를 판별하는 함수이며, 해당하는 문자(영문자와 숫자)만 반환한다.\n",
        "        strs.append(char.lower()) # 모두 소문자로 변환한다."
      ],
      "execution_count": 31,
      "outputs": []
    },
    {
      "cell_type": "code",
      "metadata": {
        "colab": {
          "base_uri": "https://localhost:8080/"
        },
        "id": "3Ye7WpRkQFqw",
        "outputId": "c7191e8e-28df-4071-b206-7ab91fb308c5"
      },
      "source": [
        "strs, len(strs)"
      ],
      "execution_count": 32,
      "outputs": [
        {
          "output_type": "execute_result",
          "data": {
            "text/plain": [
              "(['a',\n",
              "  'm',\n",
              "  'a',\n",
              "  'n',\n",
              "  'a',\n",
              "  'p',\n",
              "  'l',\n",
              "  'a',\n",
              "  'n',\n",
              "  'a',\n",
              "  'c',\n",
              "  'a',\n",
              "  'n',\n",
              "  'a',\n",
              "  'l',\n",
              "  'p',\n",
              "  'a',\n",
              "  'n',\n",
              "  'a',\n",
              "  'm',\n",
              "  'a'],\n",
              " 21)"
            ]
          },
          "metadata": {
            "tags": []
          },
          "execution_count": 32
        }
      ]
    },
    {
      "cell_type": "code",
      "metadata": {
        "id": "xALf8VmOQNho"
      },
      "source": [
        "while len(strs) > 1: # 문자열의 길이가 홀수여도 가능한 이유 : 1보다 클 조건\n",
        "    if strs.pop(0) != strs.pop(): False # pop() 함수에 의해 앞뒤로 같은 개수만큼 추출된다."
      ],
      "execution_count": 33,
      "outputs": []
    },
    {
      "cell_type": "code",
      "metadata": {
        "id": "YGlkehpCQ4zv"
      },
      "source": [
        "def isPalindrome(s: str) -> bool:\n",
        "    strs = []\n",
        "    for char in s:\n",
        "        if char.isalnum():\n",
        "            strs.append(char.lower())\n",
        "\n",
        "    # 팰린드롬 여부 판별\n",
        "    while len(strs) > 1:\n",
        "        if strs.pop(0) != strs.pop():\n",
        "            return False\n",
        "    \n",
        "    return True"
      ],
      "execution_count": 40,
      "outputs": []
    },
    {
      "cell_type": "code",
      "metadata": {
        "colab": {
          "base_uri": "https://localhost:8080/"
        },
        "id": "PXGRaNpwRsKN",
        "outputId": "25b1c31f-b1e6-4855-dfa9-5f9dec678411"
      },
      "source": [
        "isPalindrome(s)"
      ],
      "execution_count": 41,
      "outputs": [
        {
          "output_type": "execute_result",
          "data": {
            "text/plain": [
              "True"
            ]
          },
          "metadata": {
            "tags": []
          },
          "execution_count": 41
        }
      ]
    },
    {
      "cell_type": "code",
      "metadata": {
        "colab": {
          "base_uri": "https://localhost:8080/"
        },
        "id": "ijMiW9bcR2rM",
        "outputId": "e2a24cf2-9ccb-498a-d2ed-a57eb7125fa0"
      },
      "source": [
        "isPalindrome(\"A man, a plan, a canal: Panama\"), isPalindrome(\"race a car\")"
      ],
      "execution_count": 42,
      "outputs": [
        {
          "output_type": "execute_result",
          "data": {
            "text/plain": [
              "(True, False)"
            ]
          },
          "metadata": {
            "tags": []
          },
          "execution_count": 42
        }
      ]
    },
    {
      "cell_type": "code",
      "metadata": {
        "id": "ut0S9kTwNRCF"
      },
      "source": [
        "# s.isPalindrome() # AttributeError : s != class"
      ],
      "execution_count": 37,
      "outputs": []
    },
    {
      "cell_type": "code",
      "metadata": {
        "colab": {
          "base_uri": "https://localhost:8080/"
        },
        "id": "-F03nk1NSyvC",
        "outputId": "4954979b-137a-4322-9b69-f15a4aadc663"
      },
      "source": [
        "class Solution:\n",
        "    def isPalindrome(self, s: str) -> bool:\n",
        "        strs = []\n",
        "        for char in s:\n",
        "            if char.isalnum():\n",
        "                strs.append(char.lower())\n",
        "\n",
        "        # 팰린드롬 여부 판별\n",
        "        while len(strs) > 1:\n",
        "            if strs.pop(0) != strs.pop():\n",
        "                return False\n",
        "    \n",
        "        return True\n",
        "\n",
        "solution = Solution()\n",
        "test_case: str = \"A man, a plan, a canal: Panama\"\n",
        "result: bool = solution.isPalindrome(test_case) # class.method(argument), self는 class를 받는다.\n",
        "print(result)"
      ],
      "execution_count": 38,
      "outputs": [
        {
          "output_type": "stream",
          "text": [
            "True\n"
          ],
          "name": "stdout"
        }
      ]
    }
  ]
}