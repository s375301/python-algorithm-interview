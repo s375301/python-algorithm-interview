{
  "nbformat": 4,
  "nbformat_minor": 0,
  "metadata": {
    "colab": {
      "name": "10-ArrayPartition-1.ipynb",
      "provenance": [],
      "authorship_tag": "ABX9TyND1xx7DzSnQZnn/NmiCKHo",
      "include_colab_link": true
    },
    "kernelspec": {
      "name": "python3",
      "display_name": "Python 3"
    },
    "language_info": {
      "name": "python"
    }
  },
  "cells": [
    {
      "cell_type": "markdown",
      "metadata": {
        "id": "view-in-github",
        "colab_type": "text"
      },
      "source": [
        "<a href=\"https://colab.research.google.com/github/s375301/python-algorithm-interview/blob/main/10_ArrayPartition_1.ipynb\" target=\"_parent\"><img src=\"https://colab.research.google.com/assets/colab-badge.svg\" alt=\"Open In Colab\"/></a>"
      ]
    },
    {
      "cell_type": "markdown",
      "metadata": {
        "id": "ZTppr5XJPGAt"
      },
      "source": [
        "### Leetcode 561. Array Partition 1\n",
        "\n",
        "#### *input*\n",
        "```py\n",
        "[1, 4, 3, 2]\n",
        "```\n",
        "#### *output*\n",
        "```py\n",
        "[4]\n",
        "```\n",
        "#### *description*\n",
        "```py\n",
        "min(1,2) + min(3,4) = 4\n",
        "```"
      ]
    },
    {
      "cell_type": "code",
      "metadata": {
        "id": "NaPruUlfO974"
      },
      "source": [
        "# 폐어의 min()을 합산할 때의 최대(Argmax)를 구하는 것이 목적함수"
      ],
      "execution_count": 1,
      "outputs": []
    },
    {
      "cell_type": "code",
      "metadata": {
        "colab": {
          "base_uri": "https://localhost:8080/"
        },
        "id": "Z81vO6czPlpS",
        "outputId": "cf90286a-cc25-443a-8eb0-00a5ff502173"
      },
      "source": [
        "# 풀이1: 오름차순이던 내림차순이던 일단 해본다\n",
        "\n",
        "class Solution:\n",
        "    def arrayPairSum(self, nums:list) -> int :\n",
        "        sum = 0\n",
        "        pair = []\n",
        "        # sort() 함수는 리스트 자체를 변환한다.\n",
        "        nums.sort()\n",
        "\n",
        "        for n in nums:\n",
        "            # 오름차순으로 페어\n",
        "            pair.append(n)\n",
        "            if len(pair) == 2:\n",
        "                sum += min(pair)\n",
        "                pair = []\n",
        "\n",
        "        return sum\n",
        "\n",
        "test_case: list = [1, 4, 3, 2]\n",
        "solution = Solution()\n",
        "result: int = solution.arrayPairSum(test_case)\n",
        "result"
      ],
      "execution_count": 3,
      "outputs": [
        {
          "output_type": "execute_result",
          "data": {
            "text/plain": [
              "4"
            ]
          },
          "metadata": {
            "tags": []
          },
          "execution_count": 3
        }
      ]
    },
    {
      "cell_type": "code",
      "metadata": {
        "colab": {
          "base_uri": "https://localhost:8080/"
        },
        "id": "YPbh-o8CRBg-",
        "outputId": "67805588-566e-43c5-cb03-15ec0c4f2ce1"
      },
      "source": [
        "class Solution:\n",
        "    def arrayPairSum(self, nums: list) -> int:\n",
        "        sum = 0\n",
        "        pair = []\n",
        "\n",
        "        # sort() reverse = True : desc\n",
        "        nums.sort(reverse = True)\n",
        "\n",
        "        for n in nums:\n",
        "            pair.append(n)\n",
        "            if len(pair) == 2:\n",
        "                sum += min(pair)\n",
        "                # initializing\n",
        "                pair = []\n",
        "\n",
        "        return sum\n",
        "\n",
        "test_case: list = [1, 4, 3, 2]\n",
        "solution = Solution()\n",
        "result: int = solution.arrayPairSum(test_case)\n",
        "result"
      ],
      "execution_count": 7,
      "outputs": [
        {
          "output_type": "execute_result",
          "data": {
            "text/plain": [
              "4"
            ]
          },
          "metadata": {
            "tags": []
          },
          "execution_count": 7
        }
      ]
    },
    {
      "cell_type": "code",
      "metadata": {
        "colab": {
          "base_uri": "https://localhost:8080/"
        },
        "id": "VvG0OogdRsfq",
        "outputId": "1932ab27-73b5-4826-bf74-7242da225f26"
      },
      "source": [
        "# 풀이2: 작은 값은 항상 짝수번째 값이다. (0부터 시작한다.)\n",
        "\n",
        "class Solution:\n",
        "    def arrayPairSum(self, nums:list) -> int:\n",
        "        sum = 0\n",
        "        nums.sort()\n",
        "\n",
        "        for i, n in enumerate(nums):\n",
        "            # sum(values w/ even index)\n",
        "            if i % 2 == 0:\n",
        "                sum += n\n",
        "\n",
        "        return sum\n",
        "\n",
        "test_case: list = [1, 2, 3, 4]\n",
        "solution = Solution()\n",
        "result: int = solution.arrayPairSum(test_case)\n",
        "result"
      ],
      "execution_count": 8,
      "outputs": [
        {
          "output_type": "execute_result",
          "data": {
            "text/plain": [
              "4"
            ]
          },
          "metadata": {
            "tags": []
          },
          "execution_count": 8
        }
      ]
    },
    {
      "cell_type": "code",
      "metadata": {
        "colab": {
          "base_uri": "https://localhost:8080/"
        },
        "id": "AhPWEAHBSsUH",
        "outputId": "4ae80b8d-8916-421f-9901-89f15168f485"
      },
      "source": [
        "# 풀이3: \"Pythonic\"\n",
        "\n",
        "class Solution:\n",
        "    def arrayPairSum(self, nums:list) -> int:\n",
        "        return sum(sorted(nums)[::2])\n",
        "\n",
        "test_case: list = [1, 2, 3, 4]\n",
        "solution = Solution()\n",
        "result: int = solution.arrayPairSum(test_case)\n",
        "result"
      ],
      "execution_count": 9,
      "outputs": [
        {
          "output_type": "execute_result",
          "data": {
            "text/plain": [
              "4"
            ]
          },
          "metadata": {
            "tags": []
          },
          "execution_count": 9
        }
      ]
    },
    {
      "cell_type": "code",
      "metadata": {
        "id": "lOjRAR7MS_2b"
      },
      "source": [
        "# 꼭 규칙을 찾지 않아도 목적이 뚜렷하면 목적지향적인 코딩이 가능하다.\n",
        "# 단, case를 나눠 조합을 비교하는 코드는 짜지 말자."
      ],
      "execution_count": null,
      "outputs": []
    }
  ]
}