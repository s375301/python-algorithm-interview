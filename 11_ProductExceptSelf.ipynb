{
  "nbformat": 4,
  "nbformat_minor": 0,
  "metadata": {
    "colab": {
      "name": "11-ProductExceptSelf.ipynb",
      "provenance": [],
      "collapsed_sections": [],
      "authorship_tag": "ABX9TyMcn8mNbLpyZgaYJbXe2UPm",
      "include_colab_link": true
    },
    "kernelspec": {
      "name": "python3",
      "display_name": "Python 3"
    },
    "language_info": {
      "name": "python"
    }
  },
  "cells": [
    {
      "cell_type": "markdown",
      "metadata": {
        "id": "view-in-github",
        "colab_type": "text"
      },
      "source": [
        "<a href=\"https://colab.research.google.com/github/s375301/python-algorithm-interview/blob/main/11_ProductExceptSelf.ipynb\" target=\"_parent\"><img src=\"https://colab.research.google.com/assets/colab-badge.svg\" alt=\"Open In Colab\"/></a>"
      ]
    },
    {
      "cell_type": "markdown",
      "metadata": {
        "id": "Z4ziGatej77x"
      },
      "source": [
        "### Leetcode 238. Product of Array Except Self\n",
        "\n",
        "#### *input*\n",
        "```py\n",
        "[1, 2, 3, 4]\n",
        "```\n",
        "#### *output*\n",
        "```py\n",
        "[24, 12, 8, 6]\n",
        "```\n",
        "#### *Caution*\n",
        "나눗셈을 하지 않고 O(n)에 풀이하라."
      ]
    },
    {
      "cell_type": "code",
      "metadata": {
        "id": "rFZdz2xwl13r"
      },
      "source": [
        "# 미리 전체 곱셈 값을 구해놓고 각 항목별로 자기 자신을 나눠서 풀이하면 안된다.\n",
        "# 따라서 자기 자신을 제외하고 왼쪽의 곱셈 결과와 오른쪽의 곱셈 결과를 곱해야한다."
      ],
      "execution_count": null,
      "outputs": []
    },
    {
      "cell_type": "code",
      "metadata": {
        "colab": {
          "base_uri": "https://localhost:8080/"
        },
        "id": "p-ERxUZnlE7s",
        "outputId": "9c6a4c46-b52f-4144-c191-452544754f60"
      },
      "source": [
        "# 왼쪽의 곱셈 결과\n",
        "\n",
        "nums = [1, 2, 3, 4]\n",
        "\n",
        "out = []\n",
        "p = 1\n",
        "for i in range(0, len(nums)):\n",
        "    \n",
        "    # out.append(p)가 앞에 나옴으로써 out[1] = 1 대입하는 것이 포인트!\n",
        "    out.append(p)\n",
        "    p = p * nums[i]\n",
        "\n",
        "out"
      ],
      "execution_count": 3,
      "outputs": [
        {
          "output_type": "execute_result",
          "data": {
            "text/plain": [
              "[1, 1, 2, 6]"
            ]
          },
          "metadata": {
            "tags": []
          },
          "execution_count": 3
        }
      ]
    },
    {
      "cell_type": "code",
      "metadata": {
        "colab": {
          "base_uri": "https://localhost:8080/"
        },
        "id": "cD1FMvW8mFeH",
        "outputId": "8ff2212f-017f-403d-951a-4039fa3b9d58"
      },
      "source": [
        "# 오른쪽의 곱셈 결과\n",
        "\n",
        "p = 1\n",
        "\n",
        "# range 내에 각 요소별로 -1 하는 디테일! (안하면 실행이 안됨)\n",
        "for i in range(len(nums) - 1, 0 - 1, -1):\n",
        "    \n",
        "    # out[len(nums) - 1]부터 대입되므로 오른쪽 요소가 들어가게 됨.\n",
        "    out[i] = out[i] * p\n",
        "    p = p * nums[i]\n",
        "\n",
        "out"
      ],
      "execution_count": 5,
      "outputs": [
        {
          "output_type": "execute_result",
          "data": {
            "text/plain": [
              "[24, 12, 8, 6]"
            ]
          },
          "metadata": {
            "tags": []
          },
          "execution_count": 5
        }
      ]
    },
    {
      "cell_type": "code",
      "metadata": {
        "colab": {
          "base_uri": "https://localhost:8080/"
        },
        "id": "dJLQQ7IVjybB",
        "outputId": "2221669a-1538-422c-8a94-ce11c8b8ec1b"
      },
      "source": [
        "class Solution :\n",
        "    def ProductExceptSelf(self, nums: list) -> list:\n",
        "        out = []\n",
        "        p = 1\n",
        "        # left\n",
        "        for i in range(0, len(nums)):\n",
        "\n",
        "            out.append(p)\n",
        "            p = p * nums[i]\n",
        "\n",
        "        # right\n",
        "        p = 1\n",
        "        for i in range(len(nums) - 1, 0 - 1, -1):\n",
        "\n",
        "            out[i] = out[i] * p\n",
        "            p = p * nums[i]\n",
        "\n",
        "        return out\n",
        "\n",
        "test_case: list = [1, 2, 3, 4]\n",
        "solution = Solution()\n",
        "result: list = solution.ProductExceptSelf(test_case)\n",
        "result"
      ],
      "execution_count": 9,
      "outputs": [
        {
          "output_type": "execute_result",
          "data": {
            "text/plain": [
              "[24, 12, 8, 6]"
            ]
          },
          "metadata": {
            "tags": []
          },
          "execution_count": 9
        }
      ]
    }
  ]
}