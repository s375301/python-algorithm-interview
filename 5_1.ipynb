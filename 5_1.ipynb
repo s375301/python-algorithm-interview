{
  "nbformat": 4,
  "nbformat_minor": 0,
  "metadata": {
    "colab": {
      "name": "5-1",
      "provenance": [],
      "collapsed_sections": [],
      "authorship_tag": "ABX9TyOZhu4ewwygyplgzlw6y5Ti",
      "include_colab_link": true
    },
    "kernelspec": {
      "name": "python3",
      "display_name": "Python 3"
    },
    "language_info": {
      "name": "python"
    }
  },
  "cells": [
    {
      "cell_type": "markdown",
      "metadata": {
        "id": "view-in-github",
        "colab_type": "text"
      },
      "source": [
        "<a href=\"https://colab.research.google.com/github/s375301/python-algorithm-interview/blob/main/5_1.ipynb\" target=\"_parent\"><img src=\"https://colab.research.google.com/assets/colab-badge.svg\" alt=\"Open In Colab\"/></a>"
      ]
    },
    {
      "cell_type": "markdown",
      "metadata": {
        "id": "N1-GgHz6f0H1"
      },
      "source": [
        "### Leetcode 49. Group Anagrams\n",
        "\n",
        "#### *input*\n",
        "```py\n",
        "[\"eat\", \"tea\", \"tan\", \"ate\", \"nat\", \"bat\"]\n",
        "```\n",
        "#### *output*\n",
        "```py\n",
        "[\n",
        "  [\"ate, \"eat\", \"tea\"],\n",
        "  [\"nat\", \"tan\"],\n",
        "  [\"bat\"]\n",
        "]\n",
        "```"
      ]
    },
    {
      "cell_type": "code",
      "metadata": {
        "colab": {
          "base_uri": "https://localhost:8080/"
        },
        "id": "EbgRTReug4VV",
        "outputId": "168ff1a6-ecb8-4669-dde9-0f51fc45b506"
      },
      "source": [
        "import collections\n",
        "anagrams = collections.defaultdict(list) # defaultfactory 인자를 list로 선언하여 입력값을 리스트로 받는다.\n",
        "anagrams['key'].append('value')\n",
        "anagrams"
      ],
      "execution_count": 21,
      "outputs": [
        {
          "output_type": "execute_result",
          "data": {
            "text/plain": [
              "defaultdict(list, {'key': ['value']})"
            ]
          },
          "metadata": {
            "tags": []
          },
          "execution_count": 21
        }
      ]
    },
    {
      "cell_type": "code",
      "metadata": {
        "colab": {
          "base_uri": "https://localhost:8080/"
        },
        "id": "gyucY-zbhf20",
        "outputId": "3f5d02c5-2dcc-4e64-d951-c2f2f46143c1"
      },
      "source": [
        "anagrams = collections.defaultdict(list)\n",
        "\n",
        "for word in [\"eat\", \"tea\", \"tan\", \"ate\", \"nat\", \"bat\"]:\n",
        "    # 문자열을 리스트로 만들어준다.\n",
        "    print(sorted(word))\n",
        "\n",
        "    # sorted(word) 값을 key로 만들기 위해 다시 join() 함수로 합친다.\n",
        "    print(''.join(sorted(word)))\n",
        "    \n",
        "    # key 타입인 문자열(string) 형식임을 알 수 있다.\n",
        "    print(type(''.join(sorted(word))))\n",
        "\n",
        "    # key 값에 맞는 value를 append 해준다.\n",
        "    anagrams[''.join(sorted(word))].append(word)\n",
        "    print(anagrams)\n",
        "    print(\"\\n\")"
      ],
      "execution_count": 22,
      "outputs": [
        {
          "output_type": "stream",
          "text": [
            "['a', 'e', 't']\n",
            "aet\n",
            "<class 'str'>\n",
            "defaultdict(<class 'list'>, {'aet': ['eat']})\n",
            "\n",
            "\n",
            "['a', 'e', 't']\n",
            "aet\n",
            "<class 'str'>\n",
            "defaultdict(<class 'list'>, {'aet': ['eat', 'tea']})\n",
            "\n",
            "\n",
            "['a', 'n', 't']\n",
            "ant\n",
            "<class 'str'>\n",
            "defaultdict(<class 'list'>, {'aet': ['eat', 'tea'], 'ant': ['tan']})\n",
            "\n",
            "\n",
            "['a', 'e', 't']\n",
            "aet\n",
            "<class 'str'>\n",
            "defaultdict(<class 'list'>, {'aet': ['eat', 'tea', 'ate'], 'ant': ['tan']})\n",
            "\n",
            "\n",
            "['a', 'n', 't']\n",
            "ant\n",
            "<class 'str'>\n",
            "defaultdict(<class 'list'>, {'aet': ['eat', 'tea', 'ate'], 'ant': ['tan', 'nat']})\n",
            "\n",
            "\n",
            "['a', 'b', 't']\n",
            "abt\n",
            "<class 'str'>\n",
            "defaultdict(<class 'list'>, {'aet': ['eat', 'tea', 'ate'], 'ant': ['tan', 'nat'], 'abt': ['bat']})\n",
            "\n",
            "\n"
          ],
          "name": "stdout"
        }
      ]
    },
    {
      "cell_type": "code",
      "metadata": {
        "colab": {
          "base_uri": "https://localhost:8080/"
        },
        "id": "IzxIjfjBfr4v",
        "outputId": "65dccc86-8368-4163-968d-a199148cee9a"
      },
      "source": [
        "class Solution:\n",
        "    def groupAnagrams(self, strs: list) -> list:\n",
        "        anagrams = collections.defaultdict(list)\n",
        "\n",
        "        for word in strs:\n",
        "            # 정렬하여 딕셔너리에 추가\n",
        "            anagrams[''.join(sorted(word))].append(word)\n",
        "        return list(anagrams.values())\n",
        "\n",
        "solution = Solution()\n",
        "test_case: list = [\"eat\", \"tea\", \"tan\", \"ate\", \"nat\", \"bat\"]\n",
        "result: list = solution.groupAnagrams(test_case)\n",
        "result"
      ],
      "execution_count": 4,
      "outputs": [
        {
          "output_type": "execute_result",
          "data": {
            "text/plain": [
              "[['eat', 'tea', 'ate'], ['tan', 'nat'], ['bat']]"
            ]
          },
          "metadata": {
            "tags": []
          },
          "execution_count": 4
        }
      ]
    },
    {
      "cell_type": "code",
      "metadata": {
        "id": "EO3x3-nohVCO"
      },
      "source": [
        "# 그 외 : 여러 가지 정렬 방법"
      ],
      "execution_count": 23,
      "outputs": []
    },
    {
      "cell_type": "code",
      "metadata": {
        "colab": {
          "base_uri": "https://localhost:8080/"
        },
        "id": "ZvFu5Yggk1HA",
        "outputId": "d37b6493-dab2-4602-b010-960dbbb96cbc"
      },
      "source": [
        "# sorted() 함수를 이용한 파이썬 리스트를 정렬하는 예시\n",
        "a = [2, 5, 1, 9, 7 ]\n",
        "sorted(a)"
      ],
      "execution_count": 30,
      "outputs": [
        {
          "output_type": "execute_result",
          "data": {
            "text/plain": [
              "[1, 2, 5, 7, 9]"
            ]
          },
          "metadata": {
            "tags": []
          },
          "execution_count": 30
        }
      ]
    },
    {
      "cell_type": "code",
      "metadata": {
        "colab": {
          "base_uri": "https://localhost:8080/"
        },
        "id": "PEmLi2Nzk6S9",
        "outputId": "a2e6d9bd-37e4-4dda-e265-082a0e2d6caf"
      },
      "source": [
        "# sorted() 함수는 파이썬 리스트뿐만 아니라 문자도 정렬이 가능하다.\n",
        "b = 'zbdaf'\n",
        "sorted(b)"
      ],
      "execution_count": 26,
      "outputs": [
        {
          "output_type": "execute_result",
          "data": {
            "text/plain": [
              "['a', 'b', 'd', 'f', 'z']"
            ]
          },
          "metadata": {
            "tags": []
          },
          "execution_count": 26
        }
      ]
    },
    {
      "cell_type": "code",
      "metadata": {
        "id": "Q8xiXSRNlH75"
      },
      "source": [
        "# 대신 결과는 항상 '리스트'다."
      ],
      "execution_count": 27,
      "outputs": []
    },
    {
      "cell_type": "code",
      "metadata": {
        "colab": {
          "base_uri": "https://localhost:8080/",
          "height": 35
        },
        "id": "kCwGTFgZlP_2",
        "outputId": "8ba7fe36-4532-40a1-d572-17c94927a489"
      },
      "source": [
        "# 결과인 리스트를 다시 문자열로 결합하기 위해 join() 함수를 이용한다.\n",
        "''.join(sorted(b))"
      ],
      "execution_count": 28,
      "outputs": [
        {
          "output_type": "execute_result",
          "data": {
            "application/vnd.google.colaboratory.intrinsic+json": {
              "type": "string"
            },
            "text/plain": [
              "'abdfz'"
            ]
          },
          "metadata": {
            "tags": []
          },
          "execution_count": 28
        }
      ]
    },
    {
      "cell_type": "code",
      "metadata": {
        "colab": {
          "base_uri": "https://localhost:8080/"
        },
        "id": "wDrlHNF6lYxF",
        "outputId": "41826a28-d089-45b7-a3bb-9313ca9b19ce"
      },
      "source": [
        "# 반면 sort() 메소드는 리스트 자체를 정렬한다. 이를 제자리 정렬(in-place sort)라고 부른다.\n",
        "print(a)\n",
        "a.sort()\n",
        "print(a)"
      ],
      "execution_count": 31,
      "outputs": [
        {
          "output_type": "stream",
          "text": [
            "[2, 5, 1, 9, 7]\n",
            "[1, 2, 5, 7, 9]\n"
          ],
          "name": "stdout"
        }
      ]
    },
    {
      "cell_type": "code",
      "metadata": {
        "id": "TejpCQ_xlvw_"
      },
      "source": [
        "# 일반적으로 제자리 정렬 알고리즘은 입력을 출력으로 덮어씌우며, 리턴값은 없다. (return None)"
      ],
      "execution_count": 32,
      "outputs": []
    },
    {
      "cell_type": "code",
      "metadata": {
        "colab": {
          "base_uri": "https://localhost:8080/"
        },
        "id": "DuWYSAx5l8T4",
        "outputId": "6aa21c92-85aa-40f5-b4d9-73802c9794f9"
      },
      "source": [
        "# sorted()는 key= 옵션으로 정렬을 위한 함수를 별도로 지정할 수 있다.\n",
        "c = ['ccc', 'aaaa', 'd', 'b']\n",
        "\n",
        "# 길이를 구하는 len()함수를 key= 옵션으로 하는 경우\n",
        "sorted(c, key=len)"
      ],
      "execution_count": 33,
      "outputs": [
        {
          "output_type": "execute_result",
          "data": {
            "text/plain": [
              "['d', 'b', 'ccc', 'aaaa']"
            ]
          },
          "metadata": {
            "tags": []
          },
          "execution_count": 33
        }
      ]
    },
    {
      "cell_type": "code",
      "metadata": {
        "colab": {
          "base_uri": "https://localhost:8080/"
        },
        "id": "8-R61IJ5mWHl",
        "outputId": "098dec28-87ba-4183-b09d-c379f4184065"
      },
      "source": [
        "# 첫 문자열과 마지막 문자열 순으로 정렬하는 경우\n",
        "d = ['cde', 'cfc', 'abc']\n",
        "\n",
        "def fn(s):\n",
        "    return s[0], s[-1]\n",
        "\n",
        "print(sorted(d, key=fn))"
      ],
      "execution_count": 34,
      "outputs": [
        {
          "output_type": "stream",
          "text": [
            "['abc', 'cfc', 'cde']\n"
          ],
          "name": "stdout"
        }
      ]
    },
    {
      "cell_type": "code",
      "metadata": {
        "id": "FJ-VmfE0mrIm"
      },
      "source": [
        "# 두번째 키로 마지막 문자열을 보게했기 때문에 abc, cde, cfc 순이 아니라 abc, cfc, cde 순으로 출력된다."
      ],
      "execution_count": 35,
      "outputs": []
    },
    {
      "cell_type": "code",
      "metadata": {
        "colab": {
          "base_uri": "https://localhost:8080/"
        },
        "id": "Gd4PN2Vpm3bn",
        "outputId": "6c059f80-991b-4ec6-8ff1-1a6d84926294"
      },
      "source": [
        "# 람다를 이용하여 한줄로 줄이기\n",
        "d = ['cde', 'cfc', 'abc']\n",
        "print(sorted(d, key=lambda x: (x[0], x[-1]))) # x[0], x[-1]는 반드시 소괄호()로 감싸서 return 값을 명확히 해준다."
      ],
      "execution_count": 40,
      "outputs": [
        {
          "output_type": "stream",
          "text": [
            "['abc', 'cfc', 'cde']\n"
          ],
          "name": "stdout"
        }
      ]
    }
  ]
}