{
  "nbformat": 4,
  "nbformat_minor": 0,
  "metadata": {
    "colab": {
      "name": "9-3sum.ipynb",
      "provenance": [],
      "collapsed_sections": [],
      "authorship_tag": "ABX9TyPKTafQCZ6YA0bVL/xWFmN1",
      "include_colab_link": true
    },
    "kernelspec": {
      "name": "python3",
      "display_name": "Python 3"
    },
    "language_info": {
      "name": "python"
    }
  },
  "cells": [
    {
      "cell_type": "markdown",
      "metadata": {
        "id": "view-in-github",
        "colab_type": "text"
      },
      "source": [
        "<a href=\"https://colab.research.google.com/github/s375301/python-algorithm-interview/blob/main/9_3sum.ipynb\" target=\"_parent\"><img src=\"https://colab.research.google.com/assets/colab-badge.svg\" alt=\"Open In Colab\"/></a>"
      ]
    },
    {
      "cell_type": "markdown",
      "metadata": {
        "id": "81Cx5MNYhr3A"
      },
      "source": [
        "### Leetcode 15. 3sum\n",
        "\n",
        "#### *input*\n",
        "```py\n",
        "nums = [-1, 0, 1, 2, -1, -4]\n",
        "```\n",
        "#### *output*\n",
        "```py\n",
        "[\n",
        "  [-1, 0, 1],\n",
        "  [-1, -1, 2]\n",
        "]\n",
        "```\n",
        "#### *description*\n",
        " 배열을 입력받아 합으로 0을 만들 수 있는 3개의 엘리먼트를 출력하라."
      ]
    },
    {
      "cell_type": "code",
      "metadata": {
        "id": "Pd6FYXZIiDiw"
      },
      "source": [
        "# 풀이 1 : Brute Force"
      ],
      "execution_count": 1,
      "outputs": []
    },
    {
      "cell_type": "code",
      "metadata": {
        "id": "-x96swsMiK11"
      },
      "source": [
        "# 앞뒤에 같은 값이 있을 경우, 이를 쉽게 처리하기 위해 sort() 함수를 사용해 정렬한다. ; sort() 함수는 원본을 수정한다.\n",
        "# 편의상 정렬하여 i, j, k 각각의 포인터가 계속 이동하며 i+j+k=0을 찾아낸다.\n",
        "# 굳이 이름을 부여한다면, 쓰리 포인터 풀이라고 할 수 있다."
      ],
      "execution_count": 3,
      "outputs": []
    },
    {
      "cell_type": "code",
      "metadata": {
        "id": "PuDQ0mh_iZnJ"
      },
      "source": [
        "# Brute Force 풀이에는 중복된 값이 있을 수 있으므로, 이 경우에는 다음과 같이 continue로 \"건너뛰도록\" 처리한다.\n",
        "# nums 리스트에 중복된 value가 존재한다는 점을 확인할 것."
      ],
      "execution_count": 4,
      "outputs": []
    },
    {
      "cell_type": "code",
      "metadata": {
        "colab": {
          "base_uri": "https://localhost:8080/"
        },
        "id": "SNYoROvjjDxu",
        "outputId": "8d6f83d2-3072-43e4-d339-4cd6534fac19"
      },
      "source": [
        "class Solution:\n",
        "    def threeSum(self, nums:list) -> list:\n",
        "        results = []\n",
        "        nums.sort()\n",
        "\n",
        "        # Brute Force n^3 repeat\n",
        "        for i in range(len(nums) - 2): # i는 전체 개수에서 j,k를 제외한 len(nums) - 2 개 가능하다.\n",
        "            #  중복된 값 제거\n",
        "            if i > 0 and nums[i] == nums[i - 1]:\n",
        "                continue\n",
        "            for j in range(i + 1, len(nums) - 1):\n",
        "                if j > i + 1 and nums[j] == nums[j - 1]:\n",
        "                    continue\n",
        "                for k in range(j + 1, len(nums)):\n",
        "                    if k > j + 1 and nums[k] == nums[k - 1]:\n",
        "                        continue\n",
        "                    if nums[i] + nums[j] + nums[k] == 0:\n",
        "                        results.append([nums[i], nums[j], nums[k]])\n",
        "                    \n",
        "        return results\n",
        "\n",
        "test_case: list =  [-1, 0, 1, 2, -1, -4]\n",
        "solution = Solution()\n",
        "result: list = solution.threeSum(test_case)\n",
        "result"
      ],
      "execution_count": 7,
      "outputs": [
        {
          "output_type": "execute_result",
          "data": {
            "text/plain": [
              "[[-1, -1, 2], [-1, 0, 1]]"
            ]
          },
          "metadata": {
            "tags": []
          },
          "execution_count": 7
        }
      ]
    },
    {
      "cell_type": "code",
      "metadata": {
        "colab": {
          "base_uri": "https://localhost:8080/"
        },
        "id": "MdY66u11km4y",
        "outputId": "1e4e7bc3-cc69-49e9-cf33-363c7db5ddf0"
      },
      "source": [
        "# 만약 continue 처리를 안한다면 다음과 같은 결과가 나온다.\n",
        "\n",
        "class Solution:\n",
        "    def threeSum(self, nums:list) -> list:\n",
        "        results = []\n",
        "        nums.sort()\n",
        "\n",
        "        # Brute Force n^3 repeat\n",
        "        for i in range(len(nums) - 2): # i는 전체 개수에서 j,k를 제외한 len(nums) - 2 개 가능하다.\n",
        "            # continue 처리를 하지 않은 경우\n",
        "            for j in range(i + 1, len(nums) - 1):\n",
        "                for k in range(j + 1, len(nums)):\n",
        "                    if nums[i] + nums[j] + nums[k] == 0:\n",
        "                        results.append([nums[i], nums[j], nums[k]])\n",
        "                    \n",
        "        return results\n",
        "\n",
        "test_case: list =  [-1, 0, 1, 2, -1, -4]\n",
        "solution = Solution()\n",
        "result: list = solution.threeSum(test_case)\n",
        "result"
      ],
      "execution_count": 8,
      "outputs": [
        {
          "output_type": "execute_result",
          "data": {
            "text/plain": [
              "[[-1, -1, 2], [-1, 0, 1], [-1, 0, 1]]"
            ]
          },
          "metadata": {
            "tags": []
          },
          "execution_count": 8
        }
      ]
    },
    {
      "cell_type": "code",
      "metadata": {
        "id": "NEtPZT1dlI4m"
      },
      "source": [
        "# 하지만 이 방법으로는 타임아웃으로 풀이에 실패한다.\n",
        "# O(n^2) 이내로 최적화를 진행한다."
      ],
      "execution_count": 9,
      "outputs": []
    },
    {
      "cell_type": "code",
      "metadata": {
        "id": "OsL7xxLalTV0"
      },
      "source": [
        "# 풀이 2 : 투 포인터로 합 계산"
      ],
      "execution_count": 11,
      "outputs": []
    },
    {
      "cell_type": "code",
      "metadata": {
        "id": "ioimY8O9oOYI"
      },
      "source": [
        "# 이 풀이의 특이점은 sum = 0 이라고 직접 명시 조건이 아닌, else로 받았다는 점이다."
      ],
      "execution_count": null,
      "outputs": []
    },
    {
      "cell_type": "code",
      "metadata": {
        "colab": {
          "base_uri": "https://localhost:8080/"
        },
        "id": "OAQV3KwZlWpx",
        "outputId": "fba4b63d-1f63-4773-b345-c0124ce4a6e4"
      },
      "source": [
        "class Solution:\n",
        "    def threeSum(self, nums:list) -> list:\n",
        "        results = []\n",
        "        nums.sort()\n",
        "\n",
        "        for i in range(len(nums) - 2):\n",
        "            # 중복된 값 건너뛰기\n",
        "            if i > 0 and nums[i] == nums[i - 1]:\n",
        "                continue\n",
        "\n",
        "            # 간격을 좁혀가며 합 sum 계산\n",
        "            left, right = i + 1, len(nums) - 1\n",
        "            while left < right:\n",
        "                sum = nums[i] + nums[left] + nums[right]\n",
        "                if sum < 0:\n",
        "                    left += 1\n",
        "                elif sum > 0:\n",
        "                    right -= 1\n",
        "                else:\n",
        "                    # sum = 0 인 경우(1) : 정답\n",
        "                    results.append([nums[i], nums[left], nums[right]])\n",
        "\n",
        "                    # sum = 0 인 경우(2) : 스킵 *** left > right 조건으로 만들어 loop에서 탈출하게 한다.\n",
        "                    # left == right\n",
        "                    while left < right and nums[left] == nums[left + 1]:\n",
        "                        left += 1\n",
        "                    while left < right and nums[right] == nums[right - 1]:\n",
        "                        right -= 1\n",
        "                    # left > right\n",
        "                    left += 1\n",
        "                    right -= 1\n",
        "\n",
        "        return results\n",
        "\n",
        "test_case: list =  [-1, 0, 1, 2, -1, -4]\n",
        "solution = Solution()\n",
        "result: list = solution.threeSum(test_case)\n",
        "result"
      ],
      "execution_count": 17,
      "outputs": [
        {
          "output_type": "execute_result",
          "data": {
            "text/plain": [
              "[[-1, -1, 2], [-1, 0, 1]]"
            ]
          },
          "metadata": {
            "tags": []
          },
          "execution_count": 17
        }
      ]
    }
  ]
}