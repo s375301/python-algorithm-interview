{
  "nbformat": 4,
  "nbformat_minor": 0,
  "metadata": {
    "colab": {
      "name": "6-LongestPalindromeSubstring.ipynb",
      "provenance": [],
      "collapsed_sections": [],
      "authorship_tag": "ABX9TyNrrZOIqOkdQgmskaaFupLQ",
      "include_colab_link": true
    },
    "kernelspec": {
      "name": "python3",
      "display_name": "Python 3"
    },
    "language_info": {
      "name": "python"
    }
  },
  "cells": [
    {
      "cell_type": "markdown",
      "metadata": {
        "id": "view-in-github",
        "colab_type": "text"
      },
      "source": [
        "<a href=\"https://colab.research.google.com/github/s375301/python-algorithm-interview/blob/main/6_LongestPalindromeSubstring.ipynb\" target=\"_parent\"><img src=\"https://colab.research.google.com/assets/colab-badge.svg\" alt=\"Open In Colab\"/></a>"
      ]
    },
    {
      "cell_type": "markdown",
      "metadata": {
        "id": "_-RfTkZrWP3J"
      },
      "source": [
        "### Leetcode 5. Longest Palindrome Substring\n",
        "\n",
        "* 예제 1\n",
        "#### *input*\n",
        "```py\n",
        "\"babda\"\n",
        "```\n",
        "#### *output*\n",
        "```py\n",
        "\"bab\"\n",
        "```\n",
        "#### *description*\n",
        "```py\n",
        "\"aba\" 도 정답이다.\n",
        "```\n",
        "\n",
        "* 예제 2\n",
        "#### *input*\n",
        "```py\n",
        "\"cbbd\"\n",
        "```\n",
        "#### *output*\n",
        "```py\n",
        "\"bb\"\n",
        "```"
      ]
    },
    {
      "cell_type": "code",
      "metadata": {
        "id": "1GP1O6YtWwRx"
      },
      "source": [
        "# 컴퓨터과학의 오랜 문젲 중에 '최장 공통 부분 문자열' 문제는\n",
        "# 여러 개의 입력 문자열이 있을 때 서로 공통된 가장 긴 부분 문자열을 찾는 문제로\n",
        "# 다이나믹 프로그래밍으로 풀 수 있는 전형적인 문제다."
      ],
      "execution_count": null,
      "outputs": []
    },
    {
      "cell_type": "code",
      "metadata": {
        "id": "EUQRkGVGXdPt"
      },
      "source": [
        "# 다이나믹 프로그래밍을 이용한 풀이는 직관적으로 이해가 어렵고, 일반적인 예상과는 달리 실행 속도가 늦다."
      ],
      "execution_count": null,
      "outputs": []
    },
    {
      "cell_type": "code",
      "metadata": {
        "id": "FXh_jcEtXnRk"
      },
      "source": [
        "# 풀이 (1) : 투 포인터 이용"
      ],
      "execution_count": null,
      "outputs": []
    },
    {
      "cell_type": "code",
      "metadata": {
        "id": "8SiiwH9rqneg"
      },
      "source": [
        "# 1. 일단 예외처리부터 시작한다: s가 문자열 1개거나, s 전체가 펠린드롬인 경우.\n",
        "def longestPalindrome(self, s:str) -> str:\n",
        "    if len(s) < 2 or s == s[::-1]:\n",
        "        return s"
      ],
      "execution_count": 2,
      "outputs": []
    },
    {
      "cell_type": "code",
      "metadata": {
        "colab": {
          "base_uri": "https://localhost:8080/"
        },
        "id": "7jr5hTwEU146",
        "outputId": "31a48c3e-7af9-47d6-c338-831a72b2287c"
      },
      "source": [
        "# (주의) 슬라이싱은 n-1까지 나오는 반면, 인덱싱은 해당 인덱스 n이 추출된다. 버그의 주범이 된다.\n",
        "s = \"Palindrome\"\n",
        "s[1:3], s[3]"
      ],
      "execution_count": 3,
      "outputs": [
        {
          "output_type": "execute_result",
          "data": {
            "text/plain": [
              "('al', 'i')"
            ]
          },
          "metadata": {},
          "execution_count": 3
        }
      ]
    },
    {
      "cell_type": "code",
      "metadata": {
        "id": "6_B_mQ8rVJ-0"
      },
      "source": [
        "# 2. 슬라이딩 윈도우가 우측으로 이동하게 한다.\n",
        "def longestPalindrome(self, s:str) -> str:\n",
        "  \n",
        "    # 1. 예외처리\n",
        "    if len(s) < 2 or s == s[::-1]:\n",
        "        return s\n",
        "    \n",
        "    # 2. 우측으로 이동\n",
        "    for i in range(0, len(s) - 1):\n",
        "        result = max(result,\n",
        "                     expand(i, i + 1),\n",
        "                     expand(i, i + 2),\n",
        "                     key=len)\n",
        "    return result"
      ],
      "execution_count": 8,
      "outputs": []
    },
    {
      "cell_type": "code",
      "metadata": {
        "colab": {
          "base_uri": "https://localhost:8080/"
        },
        "id": "eO0nA-BqHI_k",
        "outputId": "22e6a70a-8ed6-4e3c-f3a1-02168d7807c8"
      },
      "source": [
        "expand? # 함수 내에 정의된 함수였다..."
      ],
      "execution_count": 9,
      "outputs": [
        {
          "output_type": "stream",
          "name": "stdout",
          "text": [
            "Object `expand` not found.\n"
          ]
        }
      ]
    },
    {
      "cell_type": "code",
      "metadata": {
        "colab": {
          "base_uri": "https://localhost:8080/"
        },
        "id": "JY6mm_BTHb5r",
        "outputId": "f8e762aa-0c9b-4b2b-f00c-2147bc6130a9"
      },
      "source": [
        "class Solution:\n",
        "    def longestPalindrome(self, s: str) -> str:\n",
        "        # 팰린드롬 판별 및 투 포인터 확장\n",
        "        def expand(left: int, right: int) -> str:\n",
        "            while left >= 0 and right < len(s) and s[left] == s[right]:\n",
        "                left -= 1\n",
        "                right += 1\n",
        "            return s[left+1:right]\n",
        "        \n",
        "        # 예외처리: 해당 사항이 없을 때 빠르게 리턴\n",
        "        if len(s) < 2 or s == s[::-1]:\n",
        "            return s\n",
        "        \n",
        "        result = '' # 초기화\n",
        "        # 슬라이딩 윈도우 우측 이동\n",
        "        for i in range(len(s) - 1):\n",
        "            result = max(result,\n",
        "                         expand(i, i + 1),\n",
        "                         expand(i, i + 2),\n",
        "                         key = len)\n",
        "        return result\n",
        "\n",
        "# test_case1 : 홀수형\n",
        "test_case1: str = \"babad\"\n",
        "solution = Solution()\n",
        "result1: str = solution.longestPalindrome(test_case1)\n",
        "print(result1)\n",
        "\n",
        "# test_case2 : 짝수형\n",
        "test_case2: str = \"cbbd\"\n",
        "result2: str = solution.longestPalindrome(test_case2)\n",
        "print(result2)"
      ],
      "execution_count": 15,
      "outputs": [
        {
          "output_type": "stream",
          "name": "stdout",
          "text": [
            "bab\n",
            "bb\n"
          ]
        }
      ]
    }
  ]
}