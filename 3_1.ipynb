{
  "nbformat": 4,
  "nbformat_minor": 0,
  "metadata": {
    "colab": {
      "name": "3-1.ipynb",
      "provenance": [],
      "collapsed_sections": [],
      "authorship_tag": "ABX9TyM2cmAhQWeQhPUH6ICu+lu6",
      "include_colab_link": true
    },
    "kernelspec": {
      "name": "python3",
      "display_name": "Python 3"
    },
    "language_info": {
      "name": "python"
    },
    "accelerator": "GPU"
  },
  "cells": [
    {
      "cell_type": "markdown",
      "metadata": {
        "id": "view-in-github",
        "colab_type": "text"
      },
      "source": [
        "<a href=\"https://colab.research.google.com/github/s375301/python-algorithm-interview/blob/main/3_1.ipynb\" target=\"_parent\"><img src=\"https://colab.research.google.com/assets/colab-badge.svg\" alt=\"Open In Colab\"/></a>"
      ]
    },
    {
      "cell_type": "code",
      "metadata": {
        "id": "6hMg9m5Cpl3I"
      },
      "source": [
        "import numpy as np"
      ],
      "execution_count": 3,
      "outputs": []
    },
    {
      "cell_type": "code",
      "metadata": {
        "colab": {
          "base_uri": "https://localhost:8080/"
        },
        "id": "lSSihXjxekTM",
        "outputId": "583ded23-6b96-4497-ce12-62a7ef022b6f"
      },
      "source": [
        "# sort() 함수\n",
        "\n",
        "s:list = ['2 A', '1 B', '4 C', '1 A']\n",
        "\n",
        "sorted(s)"
      ],
      "execution_count": 7,
      "outputs": [
        {
          "output_type": "execute_result",
          "data": {
            "text/plain": [
              "['1 A', '1 B', '2 A', '4 C']"
            ]
          },
          "metadata": {
            "tags": []
          },
          "execution_count": 7
        }
      ]
    },
    {
      "cell_type": "code",
      "metadata": {
        "colab": {
          "base_uri": "https://localhost:8080/"
        },
        "id": "LTrJu4OwpXma",
        "outputId": "163d6433-8683-42a5-93a4-c2bb46f88f55"
      },
      "source": [
        "# 람다 표현식\n",
        "\n",
        "s.sort(key=lambda x: (x.split()[1], x.split()[0]))\n",
        "s"
      ],
      "execution_count": 13,
      "outputs": [
        {
          "output_type": "execute_result",
          "data": {
            "text/plain": [
              "['1 A', '2 A', '1 B', '4 C']"
            ]
          },
          "metadata": {
            "tags": []
          },
          "execution_count": 13
        }
      ]
    },
    {
      "cell_type": "code",
      "metadata": {
        "colab": {
          "base_uri": "https://localhost:8080/"
        },
        "id": "jNJCBWTipwqf",
        "outputId": "ff6f2237-acc5-45fb-bb55-17b1b96fd126"
      },
      "source": [
        "# 람다를 사용하지 않고 직접 함수를 선언\n",
        "\n",
        "def func(x):\n",
        "    return x.split()[1], x.split()[0] # split() sep argument의 기본값은 띄어쓰기나 엔터키\n",
        "\n",
        "s.sort(key=func)\n",
        "s"
      ],
      "execution_count": 18,
      "outputs": [
        {
          "output_type": "execute_result",
          "data": {
            "text/plain": [
              "['1 A', '2 A', '1 B', '4 C']"
            ]
          },
          "metadata": {
            "tags": []
          },
          "execution_count": 18
        }
      ]
    },
    {
      "cell_type": "code",
      "metadata": {
        "colab": {
          "base_uri": "https://localhost:8080/",
          "height": 134
        },
        "id": "S9KrXALCpxLf",
        "outputId": "93f4f106-936a-4429-aa5c-fb0b3179285f"
      },
      "source": [
        "s[1].split()"
      ],
      "execution_count": 21,
      "outputs": [
        {
          "output_type": "error",
          "ename": "SyntaxError",
          "evalue": "ignored",
          "traceback": [
            "\u001b[0;36m  File \u001b[0;32m\"<ipython-input-21-5745664b2b8e>\"\u001b[0;36m, line \u001b[0;32m2\u001b[0m\n\u001b[0;31m    [Split()](https://blockdmask.tistory.com/469)\u001b[0m\n\u001b[0m                   ^\u001b[0m\n\u001b[0;31mSyntaxError\u001b[0m\u001b[0;31m:\u001b[0m invalid syntax\n"
          ]
        }
      ]
    },
    {
      "cell_type": "markdown",
      "metadata": {
        "id": "qiAt8YWkrsCX"
      },
      "source": [
        "[split() function](https://blockdmask.tistory.com/469)"
      ]
    },
    {
      "cell_type": "code",
      "metadata": {
        "id": "f2S-7X4EqbsI"
      },
      "source": [
        "# 람다 표현식의 단점 : map이나 filter와 함께 섞어서 사용하기 시작하면 가독성이 매우 떨어진다."
      ],
      "execution_count": 22,
      "outputs": []
    },
    {
      "cell_type": "markdown",
      "metadata": {
        "id": "1eOngl6kun51"
      },
      "source": [
        "### Leetcode 937. Reorder Log Files\n",
        "\n",
        "#### *input*\n",
        "```py\n",
        "logs = [\"dig1 8 1 5 1\", \"let1 art can\", \"dig2 3 6\", \"let2 own kit dig\", \"let3 art zero\"]\n",
        "```\n",
        "#### *output*\n",
        "```py\n",
        "[\"let1 art can\", \"let3 art zero\", \"let2 own kit dig\", \"digl 8 1 5 1\", \"dig2 3 6\"]\n",
        "```"
      ]
    },
    {
      "cell_type": "markdown",
      "metadata": {
        "id": "BMU3ERGizn8N"
      },
      "source": [
        "#### 로그의 구성\n",
        "\n",
        "\n",
        "\n",
        "1.   로그의 가장 앞 부분은 식별자다. (ex) dig1, let1, let3, digi2\n",
        "2.   문자로 구성된 로그가 숫자 로그보다 앞에 온다. (ex) dig1 > 8\n",
        "3.   식별자는 순서에 영향을 끼치지 않지만, 문자가 동일한 경우 식별자 순으로 한다. (ex) let1 art can > let3 art zero\n",
        "4.   숫자 로그는 입력 순서대로 한다. (ex) dig1 8 1 5 1 > dig2 3 6\n",
        "\n"
      ]
    },
    {
      "cell_type": "code",
      "metadata": {
        "colab": {
          "base_uri": "https://localhost:8080/"
        },
        "id": "sDYOVbwyuCP_",
        "outputId": "d0fdf4b6-eb30-4cbc-871b-7ea157eaa12f"
      },
      "source": [
        "logs = [\"dig1 8 1 5 1\", \"let1 art can\", \"dig2 3 6\", \"let2 own kit dig\", \"let3 art zero\"]\n",
        "\n",
        "digits = [] # 리스트 선언 방법(1)\n",
        "letters = list() # 리스트 선언 방법(2)\n",
        "\n",
        "for log in logs:\n",
        "    if log.split()[1].isdigit():\n",
        "        digits.append(log)\n",
        "    else:\n",
        "        letters.append(log)\n",
        "\n",
        "letters"
      ],
      "execution_count": 6,
      "outputs": [
        {
          "output_type": "execute_result",
          "data": {
            "text/plain": [
              "['let1 art can', 'let2 own kit dig', 'let3 art zero']"
            ]
          },
          "metadata": {
            "tags": []
          },
          "execution_count": 6
        }
      ]
    },
    {
      "cell_type": "code",
      "metadata": {
        "colab": {
          "base_uri": "https://localhost:8080/"
        },
        "id": "XJ4Ts280umhJ",
        "outputId": "1f62e37d-97b9-4aff-e366-be65f986bf5b"
      },
      "source": [
        "letters.sort(key=lambda x: x.split()[1:]) # 식별자를 제외한 문자열[1:]을 기준으로 정렬\n",
        "letters"
      ],
      "execution_count": 7,
      "outputs": [
        {
          "output_type": "execute_result",
          "data": {
            "text/plain": [
              "['let1 art can', 'let3 art zero', 'let2 own kit dig']"
            ]
          },
          "metadata": {
            "tags": []
          },
          "execution_count": 7
        }
      ]
    },
    {
      "cell_type": "code",
      "metadata": {
        "colab": {
          "base_uri": "https://localhost:8080/"
        },
        "id": "uDsPFQjBwQb_",
        "outputId": "452ab461-be26-4117-e091-7731211a4f3f"
      },
      "source": [
        "letters[0].split()[1:] # 두번째 단어 이후"
      ],
      "execution_count": 8,
      "outputs": [
        {
          "output_type": "execute_result",
          "data": {
            "text/plain": [
              "['art', 'can']"
            ]
          },
          "metadata": {
            "tags": []
          },
          "execution_count": 8
        }
      ]
    },
    {
      "cell_type": "code",
      "metadata": {
        "colab": {
          "base_uri": "https://localhost:8080/"
        },
        "id": "8BI3BWXowbAg",
        "outputId": "9de3f5fc-32be-417a-eba9-1227882e3cae"
      },
      "source": [
        "letters.sort(key=lambda x: (x.split()[1:], x.split()[0])) # 식별자를 제외한 문자열[1:]을 기준으로 정렬, 동일한 경우 후순위를 식별자 [0]으로 지정\n",
        "letters"
      ],
      "execution_count": 9,
      "outputs": [
        {
          "output_type": "execute_result",
          "data": {
            "text/plain": [
              "['let1 art can', 'let3 art zero', 'let2 own kit dig']"
            ]
          },
          "metadata": {
            "tags": []
          },
          "execution_count": 9
        }
      ]
    },
    {
      "cell_type": "code",
      "metadata": {
        "colab": {
          "base_uri": "https://localhost:8080/"
        },
        "id": "CZPov1byw5Pk",
        "outputId": "6b90c1a5-df05-4f30-9677-6844cee53018"
      },
      "source": [
        "letters + digits # 변수 값이 차례로 이어진다."
      ],
      "execution_count": 11,
      "outputs": [
        {
          "output_type": "execute_result",
          "data": {
            "text/plain": [
              "['let1 art can',\n",
              " 'let3 art zero',\n",
              " 'let2 own kit dig',\n",
              " 'dig1 8 1 5 1',\n",
              " 'dig2 3 6']"
            ]
          },
          "metadata": {
            "tags": []
          },
          "execution_count": 11
        }
      ]
    },
    {
      "cell_type": "code",
      "metadata": {
        "colab": {
          "base_uri": "https://localhost:8080/"
        },
        "id": "u6hrOA6y1gli",
        "outputId": "ba1a3109-726f-4722-be23-fc0ff643aef5"
      },
      "source": [
        "class Solution:\n",
        "    def reorderLogFiles(self, logs: list) -> list:\n",
        "        letters, digits = [], [] # 각각이므로 두 개\n",
        "        for log in logs:\n",
        "            if log.split()[1].isdigit():\n",
        "                digits.append(log)\n",
        "            else:\n",
        "                letters.append(log)\n",
        "        \n",
        "        # 2개의 키를 람다 표현식으로 정렬\n",
        "        letters.sort(key=lambda x: (x.split()[1:], x.split()[0]))\n",
        "        return letters + digits\n",
        "\n",
        "solution = Solution()\n",
        "test_case: list = [\"dig1 8 1 5 1\", \"let1 art can\", \"dig2 3 6\", \"let2 own kit dig\", \"let3 art zero\"]\n",
        "result: list = solution.reorderLogFiles(test_case)\n",
        "result"
      ],
      "execution_count": 15,
      "outputs": [
        {
          "output_type": "execute_result",
          "data": {
            "text/plain": [
              "['let1 art can',\n",
              " 'let3 art zero',\n",
              " 'let2 own kit dig',\n",
              " 'dig1 8 1 5 1',\n",
              " 'dig2 3 6']"
            ]
          },
          "metadata": {
            "tags": []
          },
          "execution_count": 15
        }
      ]
    }
  ]
}