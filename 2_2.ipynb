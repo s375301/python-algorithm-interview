{
  "nbformat": 4,
  "nbformat_minor": 0,
  "metadata": {
    "colab": {
      "name": "2-2.ipynb",
      "provenance": [],
      "collapsed_sections": [],
      "authorship_tag": "ABX9TyPJgUXGEmM36ufTJLJbufx9",
      "include_colab_link": true
    },
    "kernelspec": {
      "name": "python3",
      "display_name": "Python 3"
    },
    "language_info": {
      "name": "python"
    }
  },
  "cells": [
    {
      "cell_type": "markdown",
      "metadata": {
        "id": "view-in-github",
        "colab_type": "text"
      },
      "source": [
        "<a href=\"https://colab.research.google.com/github/s375301/python-algorithm-interview/blob/main/2_2.ipynb\" target=\"_parent\"><img src=\"https://colab.research.google.com/assets/colab-badge.svg\" alt=\"Open In Colab\"/></a>"
      ]
    },
    {
      "cell_type": "code",
      "metadata": {
        "id": "gBVtRo6-c6EV"
      },
      "source": [
        "import numpy as np"
      ],
      "execution_count": 1,
      "outputs": []
    },
    {
      "cell_type": "code",
      "metadata": {
        "id": "ZvNf4iBSc83c"
      },
      "source": [
        "# 풀이(2) 파이썬 다운 방식"
      ],
      "execution_count": 2,
      "outputs": []
    },
    {
      "cell_type": "code",
      "metadata": {
        "colab": {
          "base_uri": "https://localhost:8080/"
        },
        "id": "S60NN1-Mc_VO",
        "outputId": "3fc31de8-f312-4c50-b388-2622fee8a62b"
      },
      "source": [
        "class Solution:\n",
        "    def reverseString(sef, s: list) -> None:\n",
        "        s.reverse()\n",
        "\n",
        "solution = Solution()\n",
        "test_case: str = [\"H\", \"a\", \"n\", \"n\", \"a\", \"h\"]\n",
        "solution.reverseString(test_case)\n",
        "test_case"
      ],
      "execution_count": 9,
      "outputs": [
        {
          "output_type": "execute_result",
          "data": {
            "text/plain": [
              "['h', 'a', 'n', 'n', 'a', 'H']"
            ]
          },
          "metadata": {
            "tags": []
          },
          "execution_count": 9
        }
      ]
    },
    {
      "cell_type": "code",
      "metadata": {
        "colab": {
          "base_uri": "https://localhost:8080/"
        },
        "id": "6kGP-_9aeAp8",
        "outputId": "902eaa01-7fb3-468e-ffdb-3b5f09a196c3"
      },
      "source": [
        "%time solution.reverseString(test_case)"
      ],
      "execution_count": 10,
      "outputs": [
        {
          "output_type": "stream",
          "text": [
            "CPU times: user 5 µs, sys: 1e+03 ns, total: 6 µs\n",
            "Wall time: 9.78 µs\n"
          ],
          "name": "stdout"
        }
      ]
    },
    {
      "cell_type": "code",
      "metadata": {
        "colab": {
          "base_uri": "https://localhost:8080/"
        },
        "id": "FY4GkK5LdYcT",
        "outputId": "0e510f21-c8d6-4543-83e0-9a34836bf4f8"
      },
      "source": [
        "class Solution:\n",
        "    def reverseString(sef, s: list) -> None:\n",
        "        s = s[::-1] # 오류 원인 : 참조 문제\n",
        "\n",
        "solution = Solution()\n",
        "test_case: str = [\"H\", \"a\", \"n\", \"n\", \"a\", \"h\"]\n",
        "solution.reverseString(test_case)\n",
        "test_case"
      ],
      "execution_count": 5,
      "outputs": [
        {
          "output_type": "execute_result",
          "data": {
            "text/plain": [
              "['H', 'a', 'n', 'n', 'a', 'h']"
            ]
          },
          "metadata": {
            "tags": []
          },
          "execution_count": 5
        }
      ]
    },
    {
      "cell_type": "code",
      "metadata": {
        "colab": {
          "base_uri": "https://localhost:8080/"
        },
        "id": "cdAQNY7KdegL",
        "outputId": "b4b97276-4159-4551-ad38-87869ebf58e8"
      },
      "source": [
        "class Solution:\n",
        "    def reverseString(sef, s: list) -> None:\n",
        "        s[:] = s[::-1]\n",
        "\n",
        "solution = Solution()\n",
        "test_case: str = [\"H\", \"a\", \"n\", \"n\", \"a\", \"h\"]\n",
        "solution.reverseString(test_case)\n",
        "test_case"
      ],
      "execution_count": 7,
      "outputs": [
        {
          "output_type": "execute_result",
          "data": {
            "text/plain": [
              "['h', 'a', 'n', 'n', 'a', 'H']"
            ]
          },
          "metadata": {
            "tags": []
          },
          "execution_count": 7
        }
      ]
    },
    {
      "cell_type": "code",
      "metadata": {
        "colab": {
          "base_uri": "https://localhost:8080/"
        },
        "id": "Tq8C1u5id42k",
        "outputId": "0d4d63d5-dd19-4299-af63-df7db6ede407"
      },
      "source": [
        "%time solution.reverseString(test_case)"
      ],
      "execution_count": 8,
      "outputs": [
        {
          "output_type": "stream",
          "text": [
            "CPU times: user 6 µs, sys: 0 ns, total: 6 µs\n",
            "Wall time: 10.7 µs\n"
          ],
          "name": "stdout"
        }
      ]
    }
  ]
}