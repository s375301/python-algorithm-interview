{
  "nbformat": 4,
  "nbformat_minor": 0,
  "metadata": {
    "colab": {
      "name": "8-TrappingRainWater-2.ipynb",
      "provenance": [],
      "collapsed_sections": [],
      "authorship_tag": "ABX9TyPxpR6xDggrdw/suLLBoEb/",
      "include_colab_link": true
    },
    "kernelspec": {
      "name": "python3",
      "display_name": "Python 3"
    },
    "language_info": {
      "name": "python"
    }
  },
  "cells": [
    {
      "cell_type": "markdown",
      "metadata": {
        "id": "view-in-github",
        "colab_type": "text"
      },
      "source": [
        "<a href=\"https://colab.research.google.com/github/s375301/python-algorithm-interview/blob/main/8_TrappingRainWater_2.ipynb\" target=\"_parent\"><img src=\"https://colab.research.google.com/assets/colab-badge.svg\" alt=\"Open In Colab\"/></a>"
      ]
    },
    {
      "cell_type": "markdown",
      "metadata": {
        "id": "ezj_kMs2iYzF"
      },
      "source": [
        "### Leetcode 42. Trapping Rain Water\n",
        "\n",
        "#### *input*\n",
        "```py\n",
        "[0, 1, 0, 2, 1, 0, 1, 3, 2, 1, 2, 1]\n",
        "```\n",
        "#### *output*\n",
        "```py\n",
        "[6]\n",
        "```"
      ]
    },
    {
      "cell_type": "code",
      "metadata": {
        "id": "q_ahJH9OiiQB"
      },
      "source": [
        "# 풀이 2 : 스택 쌓기"
      ],
      "execution_count": null,
      "outputs": []
    },
    {
      "cell_type": "code",
      "metadata": {
        "id": "cu-EK7f9m-pF"
      },
      "source": [
        "# while list: list가 빈 리스트가 될 때까지\n",
        "# if not len(list): list가 빈 리스트라면"
      ],
      "execution_count": null,
      "outputs": []
    },
    {
      "cell_type": "code",
      "metadata": {
        "colab": {
          "base_uri": "https://localhost:8080/"
        },
        "id": "PgmGmpPyi_Ua",
        "outputId": "de451afe-8492-49ad-fd2b-190139da775a"
      },
      "source": [
        "class Solution:\n",
        "    def trap(self, height:list) -> int:\n",
        "        stack = []\n",
        "        volume = 0\n",
        "\n",
        "        for i in range(len(height)):\n",
        "\n",
        "            # at Inflection Point\n",
        "            while stack and height[i] > height[stack[-1]]: # stack = [] and stack[-1]: list out of range, then False\n",
        "                # pop() from stack\n",
        "                top = stack.pop() # top은 사실 의미는 bottom과 일치한다(?).\n",
        "\n",
        "                # 첫 번째 hump에서 물 채우기를 제외시키는 조건\n",
        "                if not len(stack):\n",
        "                    break\n",
        "\n",
        "                # 물의 양 확인\n",
        "                distance = i - stack[-1] - 1 # distance = (i - 1) - stack[-1]\n",
        "                waters = min(height[i], height[stack[-1]]) - height[top] # min() : 가장 가까운 비슷한 높이의 봉우리 중 낮은 봉우리\n",
        "\n",
        "                volume += distance * waters\n",
        "\n",
        "            stack.append(i)\n",
        "\n",
        "        return volume\n",
        "\n",
        "solution = Solution()\n",
        "test_case: list = [0, 1, 0, 2, 1, 0, 1, 3, 2, 1, 2, 1]\n",
        "result: int = solution.trap(test_case)\n",
        "result"
      ],
      "execution_count": 33,
      "outputs": [
        {
          "output_type": "execute_result",
          "data": {
            "text/plain": [
              "6"
            ]
          },
          "metadata": {
            "tags": []
          },
          "execution_count": 33
        }
      ]
    },
    {
      "cell_type": "code",
      "metadata": {
        "id": "MnJMQ0gGkoHh"
      },
      "source": [
        "# 스택 쌓기 풀이는 직관적으로 떠올리기 쉽지 않고 풀이 방법 또한 많이 고민해봐야 하므로, 코테에서는 제대로 동작하기 위해 많은 시간이 필요하다."
      ],
      "execution_count": null,
      "outputs": []
    }
  ]
}