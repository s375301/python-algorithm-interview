{
  "nbformat": 4,
  "nbformat_minor": 0,
  "metadata": {
    "colab": {
      "name": "2-1.ipynb",
      "provenance": [],
      "authorship_tag": "ABX9TyOrv4FXsGtdjJCKdPBKj7+j",
      "include_colab_link": true
    },
    "kernelspec": {
      "name": "python3",
      "display_name": "Python 3"
    },
    "language_info": {
      "name": "python"
    }
  },
  "cells": [
    {
      "cell_type": "markdown",
      "metadata": {
        "id": "view-in-github",
        "colab_type": "text"
      },
      "source": [
        "<a href=\"https://colab.research.google.com/github/s375301/python-algorithm-interview/blob/main/2_1.ipynb\" target=\"_parent\"><img src=\"https://colab.research.google.com/assets/colab-badge.svg\" alt=\"Open In Colab\"/></a>"
      ]
    },
    {
      "cell_type": "code",
      "metadata": {
        "id": "fyv4Mtj5NY4a"
      },
      "source": [
        "import numpy as np"
      ],
      "execution_count": 1,
      "outputs": []
    },
    {
      "cell_type": "markdown",
      "metadata": {
        "id": "wtwDpQJvO91E"
      },
      "source": [
        "### Leetcode 344. Reverse String\n",
        "\n",
        "#### *input*\n",
        "```py\n",
        "[\"h\", \"e\", \"l\", \"l\", \"o\"]\n",
        "```\n",
        "#### *output*\n",
        "```py\n",
        "[\"o\", \"l\", \"l\", \"e\", \"h\"]\n",
        "```\n",
        "\n",
        "#### *input*\n",
        "```py\n",
        "[\"H\", \"a\", \"n\", \"n\", \"a\", \"h\"]\n",
        "```\n",
        "#### *output*\n",
        "```py\n",
        "[\"h\", \"a\", \"n\", \"n\", \"a\", \"H\"]\n",
        "```"
      ]
    },
    {
      "cell_type": "code",
      "metadata": {
        "id": "RiLsigVvYXpm"
      },
      "source": [
        "# 풀이(1) 투 포인터를 이용한 스왑"
      ],
      "execution_count": 2,
      "outputs": []
    },
    {
      "cell_type": "code",
      "metadata": {
        "colab": {
          "base_uri": "https://localhost:8080/"
        },
        "id": "6IpRYzcCYgXF",
        "outputId": "aad4a2d0-481e-454e-957e-1631ae1ac690"
      },
      "source": [
        "class Solution:\n",
        "    def reverseString(self, s: list) -> None:\n",
        "        left, right = 0, len(s) - 1 # 변수명은 직관적이게 생성\n",
        "        while left < right:\n",
        "            s[left], s[right] = s[right], s[left] # 두 줄 코드를 콤마로 한줄로 대입한다.\n",
        "            left += 1\n",
        "            right -=1\n",
        "\n",
        "solution = Solution()\n",
        "test_case: str = [\"h\", \"e\", \"l\", \"l\", \"o\"]\n",
        "solution.reverseString(test_case) # 리턴 없이 리스트 내부를 직접 조작한다.\n",
        "test_case"
      ],
      "execution_count": 18,
      "outputs": [
        {
          "output_type": "execute_result",
          "data": {
            "text/plain": [
              "['o', 'l', 'l', 'e', 'h']"
            ]
          },
          "metadata": {
            "tags": []
          },
          "execution_count": 18
        }
      ]
    },
    {
      "cell_type": "code",
      "metadata": {
        "colab": {
          "base_uri": "https://localhost:8080/"
        },
        "id": "gsx1YKhiZiEp",
        "outputId": "979e49db-a084-4ad6-aabf-2674383344b8"
      },
      "source": [
        "test_case_2: str = [\"H\", \"a\", \"n\", \"n\", \"a\", \"h\"]\n",
        "solution.reverseString(test_case_2)\n",
        "test_case_2"
      ],
      "execution_count": 19,
      "outputs": [
        {
          "output_type": "execute_result",
          "data": {
            "text/plain": [
              "['h', 'a', 'n', 'n', 'a', 'H']"
            ]
          },
          "metadata": {
            "tags": []
          },
          "execution_count": 19
        }
      ]
    },
    {
      "cell_type": "code",
      "metadata": {
        "colab": {
          "base_uri": "https://localhost:8080/"
        },
        "id": "H65Bdwowdw7L",
        "outputId": "0b7e886e-0ebe-4f32-a0e0-0e996808d7b9"
      },
      "source": [
        "%time solution.reverseString(test_case_2)"
      ],
      "execution_count": 20,
      "outputs": [
        {
          "output_type": "stream",
          "text": [
            "CPU times: user 11 µs, sys: 0 ns, total: 11 µs\n",
            "Wall time: 15.5 µs\n"
          ],
          "name": "stdout"
        }
      ]
    }
  ]
}