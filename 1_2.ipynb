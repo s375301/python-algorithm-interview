{
  "nbformat": 4,
  "nbformat_minor": 0,
  "metadata": {
    "colab": {
      "name": "1-2.ipynb",
      "provenance": [],
      "collapsed_sections": [],
      "authorship_tag": "ABX9TyPPB6wsXUgOsQ3ElC1ck59N",
      "include_colab_link": true
    },
    "kernelspec": {
      "name": "python3",
      "display_name": "Python 3"
    },
    "language_info": {
      "name": "python"
    }
  },
  "cells": [
    {
      "cell_type": "markdown",
      "metadata": {
        "id": "view-in-github",
        "colab_type": "text"
      },
      "source": [
        "<a href=\"https://colab.research.google.com/github/s375301/python-algorithm-interview/blob/main/1_2.ipynb\" target=\"_parent\"><img src=\"https://colab.research.google.com/assets/colab-badge.svg\" alt=\"Open In Colab\"/></a>"
      ]
    },
    {
      "cell_type": "code",
      "metadata": {
        "id": "dWP7iRzcXmDT"
      },
      "source": [
        "import numpy as np\n",
        "import collections"
      ],
      "execution_count": 2,
      "outputs": []
    },
    {
      "cell_type": "code",
      "metadata": {
        "id": "LxW7De5dYRkX"
      },
      "source": [
        "# 풀이(2) 데크 자료형을 이용한 최적화"
      ],
      "execution_count": 3,
      "outputs": []
    },
    {
      "cell_type": "code",
      "metadata": {
        "colab": {
          "base_uri": "https://localhost:8080/"
        },
        "id": "QnHXmfn0XqAa",
        "outputId": "b7224a27-d63d-4623-e88c-f14eca16691f"
      },
      "source": [
        "class Solution:\n",
        "    def isPalindrome(self, s:str) -> bool:\n",
        "        # 자료형 데크로 선언\n",
        "        strs: Deque = collections.deque()\n",
        "\n",
        "        for char in s:\n",
        "            if char.isalnum():\n",
        "               strs.append(char.lower())\n",
        "\n",
        "        while len(strs) > 1:\n",
        "           if strs.popleft() != strs.pop():\n",
        "               return False\n",
        "\n",
        "        return True\n",
        "\n",
        "solution = Solution()\n",
        "test_case: str = \"A man, a plan, a canal: Panama\"\n",
        "result: bool = solution.isPalindrome(test_case)\n",
        "result"
      ],
      "execution_count": 6,
      "outputs": [
        {
          "output_type": "execute_result",
          "data": {
            "text/plain": [
              "True"
            ]
          },
          "metadata": {
            "tags": []
          },
          "execution_count": 6
        }
      ]
    },
    {
      "cell_type": "code",
      "metadata": {
        "colab": {
          "base_uri": "https://localhost:8080/"
        },
        "id": "BSCjXppga-R2",
        "outputId": "ae340741-3378-43c1-e262-5362a05c6074"
      },
      "source": [
        "%time solution.isPalindrome(test_case)"
      ],
      "execution_count": 11,
      "outputs": [
        {
          "output_type": "stream",
          "text": [
            "CPU times: user 22 µs, sys: 1e+03 ns, total: 23 µs\n",
            "Wall time: 26.5 µs\n"
          ],
          "name": "stdout"
        },
        {
          "output_type": "execute_result",
          "data": {
            "text/plain": [
              "True"
            ]
          },
          "metadata": {
            "tags": []
          },
          "execution_count": 11
        }
      ]
    }
  ]
}