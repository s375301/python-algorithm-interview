{
  "nbformat": 4,
  "nbformat_minor": 0,
  "metadata": {
    "colab": {
      "name": "1-3.ipynb",
      "provenance": [],
      "collapsed_sections": [],
      "authorship_tag": "ABX9TyOln3nWKKdeE7JkW55CneGb",
      "include_colab_link": true
    },
    "kernelspec": {
      "name": "python3",
      "display_name": "Python 3"
    },
    "language_info": {
      "name": "python"
    }
  },
  "cells": [
    {
      "cell_type": "markdown",
      "metadata": {
        "id": "view-in-github",
        "colab_type": "text"
      },
      "source": [
        "<a href=\"https://colab.research.google.com/github/s375301/python-algorithm-interview/blob/main/1_3.ipynb\" target=\"_parent\"><img src=\"https://colab.research.google.com/assets/colab-badge.svg\" alt=\"Open In Colab\"/></a>"
      ]
    },
    {
      "cell_type": "code",
      "metadata": {
        "id": "A82dwLS2b0wc"
      },
      "source": [
        "import numpy as np\n",
        "import re"
      ],
      "execution_count": 7,
      "outputs": []
    },
    {
      "cell_type": "code",
      "metadata": {
        "id": "rpkpDT_gb9Xz"
      },
      "source": [
        "# 풀이(3) 슬라이싱 사용"
      ],
      "execution_count": 2,
      "outputs": []
    },
    {
      "cell_type": "code",
      "metadata": {
        "colab": {
          "base_uri": "https://localhost:8080/"
        },
        "id": "3u16pmm1cCy9",
        "outputId": "205cf006-673c-40cf-c30d-4dd4d7034958"
      },
      "source": [
        "class Solution:\n",
        "    def isPalindrome(self, s:str) -> bool:\n",
        "        s = s.lower()\n",
        "        # 정규식으로 영숫자만 걸러내기\n",
        "        s = re.sub('[^a-z0-9]', '', s)\n",
        "\n",
        "        return s == s[::-1] # [::-1]는 슬라이싱 뒤집기\n",
        "\n",
        "solution = Solution()\n",
        "test_case: str = \"A man, a plan, a canal: Panama\"\n",
        "result: bool = solution.isPalindrome(test_case)\n",
        "result"
      ],
      "execution_count": 8,
      "outputs": [
        {
          "output_type": "execute_result",
          "data": {
            "text/plain": [
              "True"
            ]
          },
          "metadata": {
            "tags": []
          },
          "execution_count": 8
        }
      ]
    },
    {
      "cell_type": "code",
      "metadata": {
        "colab": {
          "base_uri": "https://localhost:8080/"
        },
        "id": "60ttcTg3dFN6",
        "outputId": "506cfacb-bcfe-4801-a779-05342bd29191"
      },
      "source": [
        "%time solution.isPalindrome(test_case)"
      ],
      "execution_count": 9,
      "outputs": [
        {
          "output_type": "stream",
          "text": [
            "CPU times: user 14 µs, sys: 2 µs, total: 16 µs\n",
            "Wall time: 18.4 µs\n"
          ],
          "name": "stdout"
        },
        {
          "output_type": "execute_result",
          "data": {
            "text/plain": [
              "True"
            ]
          },
          "metadata": {
            "tags": []
          },
          "execution_count": 9
        }
      ]
    },
    {
      "cell_type": "code",
      "metadata": {
        "id": "k1r_jUiKeB61"
      },
      "source": [
        "# 번 외\n",
        "\n",
        "S = '안녕하세요'\n",
        "\n",
        "S[:] # Why Pythonic?\n",
        "S[::1]\n",
        "S[::-1]"
      ],
      "execution_count": null,
      "outputs": []
    }
  ]
}