{
  "nbformat": 4,
  "nbformat_minor": 0,
  "metadata": {
    "colab": {
      "name": "13-PalindromeLinkedList.ipynb",
      "provenance": [],
      "authorship_tag": "ABX9TyPdd60tRcdcroCRJO8p5Bf1",
      "include_colab_link": true
    },
    "kernelspec": {
      "name": "python3",
      "display_name": "Python 3"
    },
    "language_info": {
      "name": "python"
    }
  },
  "cells": [
    {
      "cell_type": "markdown",
      "metadata": {
        "id": "view-in-github",
        "colab_type": "text"
      },
      "source": [
        "<a href=\"https://colab.research.google.com/github/s375301/python-algorithm-interview/blob/main/13_PalindromeLinkedList.ipynb\" target=\"_parent\"><img src=\"https://colab.research.google.com/assets/colab-badge.svg\" alt=\"Open In Colab\"/></a>"
      ]
    },
    {
      "cell_type": "markdown",
      "metadata": {
        "id": "CQ-8phpyZFoU"
      },
      "source": [
        "### Leetcode 234. Palindrome Linked List\n",
        "* 예제 1\n",
        "#### **input**\n",
        "```py\n",
        "1->2\n",
        "```\n",
        "#### **output**\n",
        "```py\n",
        "false\n",
        "```\n",
        "\n",
        "* 예제 2\n",
        "#### **input**\n",
        "```py\n",
        "1->2->2->1\n",
        "```\n",
        "#### **output**\n",
        "```py\n",
        "true\n",
        "```"
      ]
    },
    {
      "cell_type": "markdown",
      "metadata": {
        "id": "Kr7gVES8ZowW"
      },
      "source": [
        "## 풀이(1): 연결리스트를 파이썬의 리스트로 변환\n",
        "\n",
        "- 팰린드롬 여부 판별의 핵심: 앞뒤로 모두 추출\n",
        "  - 일반적인 스택 자료구조 - 마지막 요소만 추출하는 연산\n",
        "  - 파이썬 리스트 - pop() 함수 인덱스 이용해 원하는 위치의 연산 추출 가능\n"
      ]
    },
    {
      "cell_type": "code",
      "metadata": {
        "id": "B-aOfHlhXi00"
      },
      "source": [
        "# Linked List 자료 구조\n",
        "class ListNode():\n",
        "    def __init__(self, val=0, next=None):\n",
        "        # head pointing current val\n",
        "        self.val = val\n",
        "        # tail pointing next val\n",
        "        self.next = next"
      ],
      "execution_count": 2,
      "outputs": []
    },
    {
      "cell_type": "code",
      "metadata": {
        "id": "YTGbo4ATYJXw"
      },
      "source": [
        "# test_case 만드는 방법(1)\n",
        "def make_list(nums):\n",
        "    head = None\n",
        "    cur = None\n",
        "    \n",
        "    for num in nums:\n",
        "        if head:\n",
        "            cur.next = ListNode(val=num)\n",
        "            cur = cur.next\n",
        "        else:\n",
        "            head = ListNode(val=num)\n",
        "            cur = head\n",
        "    return head\n",
        "\n",
        "def print_list(head):\n",
        "    while head:\n",
        "        print(head.val)\n",
        "        head = head.next"
      ],
      "execution_count": 3,
      "outputs": []
    },
    {
      "cell_type": "code",
      "metadata": {
        "colab": {
          "base_uri": "https://localhost:8080/"
        },
        "id": "5LKJd2hHYp-e",
        "outputId": "9e1682b9-f314-4d17-ba0a-462bd5ab9ea1"
      },
      "source": [
        "head = make_list([1, 2, 2, 1])\n",
        "print_list(head)"
      ],
      "execution_count": 10,
      "outputs": [
        {
          "output_type": "stream",
          "name": "stdout",
          "text": [
            "1\n",
            "2\n",
            "2\n",
            "1\n"
          ]
        }
      ]
    },
    {
      "cell_type": "code",
      "metadata": {
        "id": "LobpLCM2Zghq"
      },
      "source": [
        "del head"
      ],
      "execution_count": 11,
      "outputs": []
    },
    {
      "cell_type": "code",
      "metadata": {
        "colab": {
          "base_uri": "https://localhost:8080/"
        },
        "id": "AHzmSmt_Yvta",
        "outputId": "c288d5a0-8ba1-4a11-b081-6b2027c3de29"
      },
      "source": [
        "# test_case 만드는 방법(2)\n",
        "if __name__ == \"__main__\": # == python a.py\n",
        "    list1 = ListNode(1)\n",
        "    list2 = ListNode(2)\n",
        "    list3 = ListNode(2)\n",
        "    list4 = ListNode(1)\n",
        "    head = list1\n",
        "    list1.next = list2\n",
        "    list2.next = list3\n",
        "    list3.next = list4\n",
        "\n",
        "print_list(head)"
      ],
      "execution_count": 12,
      "outputs": [
        {
          "output_type": "stream",
          "name": "stdout",
          "text": [
            "1\n",
            "2\n",
            "2\n",
            "1\n"
          ]
        }
      ]
    },
    {
      "cell_type": "code",
      "metadata": {
        "id": "ciRLkCG9aFUL",
        "colab": {
          "base_uri": "https://localhost:8080/"
        },
        "outputId": "544ba9b1-ba38-4aab-81ec-5c6a69349eb7"
      },
      "source": [
        "from typing import List\n",
        "\n",
        "class Solution:\n",
        "    def isPalindrome(self, head: ListNode) -> bool:\n",
        "        q: List = [] # line 1, for TypeError\n",
        "        \n",
        "        if not head: # exception : empty list\n",
        "            return True\n",
        "        \n",
        "        node = head\n",
        "\n",
        "        # 리스트 변환\n",
        "        while node is not None:\n",
        "            q.append(node.val)\n",
        "            node = node.next\n",
        "\n",
        "        # 팰린드롬 판별\n",
        "        while len(q) > 1:\n",
        "            if q.pop(0) != q.pop(): # 첫번째 원소 != 마지막 원소\n",
        "                return False\n",
        "\n",
        "        return True\n",
        "\n",
        "solution = Solution()\n",
        "head1 = make_list([1, 2])\n",
        "result1: bool = solution.isPalindrome(head1)\n",
        "print(result1)\n",
        "\n",
        "head2 = make_list([1, 2, 2, 1])\n",
        "result2: bool = solution.isPalindrome(head2)\n",
        "print(result2)"
      ],
      "execution_count": 13,
      "outputs": [
        {
          "output_type": "stream",
          "name": "stdout",
          "text": [
            "False\n",
            "True\n"
          ]
        }
      ]
    },
    {
      "cell_type": "markdown",
      "metadata": {
        "id": "AZxbOF1ZbNPe"
      },
      "source": [
        "## 풀이(2): 데크를 이용한 최적화\n",
        "\n",
        "- 리스트는 pop(0) 명령어로 모든 값이 한칸씩 시프팅되며, 시간복잡도 O(n)이 발생한다.\n",
        "- 최적화를 위해 O(1) 내에서 처리 가능한 데크를 이용한다."
      ]
    },
    {
      "cell_type": "code",
      "metadata": {
        "id": "sJfklP7-bOxt",
        "colab": {
          "base_uri": "https://localhost:8080/"
        },
        "outputId": "7ca97a8b-2045-494b-e77c-59b8cfabe34e"
      },
      "source": [
        "from typing import Deque\n",
        "import collections\n",
        "\n",
        "class Solution:\n",
        "    def isPalindrome(self, head: ListNode) -> bool:\n",
        "        # 데크 자료형 선언\n",
        "        q: Deque = collections.deque()\n",
        "\n",
        "        if not head:\n",
        "            return True\n",
        "        \n",
        "        node = head\n",
        "        while node is not None:\n",
        "            q.append(node.val)\n",
        "            node = node.next\n",
        "\n",
        "        while len(q) > 1:\n",
        "            if q.popleft() != q.pop(): # List: q.pop(0) != q.pop()\n",
        "                return False\n",
        "\n",
        "        return True\n",
        "\n",
        "solution = Solution()\n",
        "head1 = make_list([1, 2])\n",
        "result1: bool = solution.isPalindrome(head1)\n",
        "print(result1)\n",
        "\n",
        "head2 = make_list([1, 2, 2, 1])\n",
        "result2: bool = solution.isPalindrome(head2)\n",
        "print(result2)"
      ],
      "execution_count": 16,
      "outputs": [
        {
          "output_type": "stream",
          "name": "stdout",
          "text": [
            "False\n",
            "True\n"
          ]
        }
      ]
    },
    {
      "cell_type": "markdown",
      "metadata": {
        "id": "iOyGYT0pbTeh"
      },
      "source": [
        "## 풀이(3): 런너를 이용한 우아한 풀이 (가장 중요)\n",
        "\n",
        "- 팰린드론 연결 리스트의 제대로 된 풀이법은 런너 기법을 활용하는 것이다.\n",
        "- Fast Runner/Slow Runner\n",
        "  - 빠른 런너가 끝에 다다를 때 느린 런너는 정확히 중간 지점에 도달한다.\n",
        "  - 느린 런너는 중간까지 이동하며 역순으로 rev를 만들어 나간다.\n",
        "  - 느린 런너와 빠른 런너의 값들이 일치하는지 확인하다.\n",
        "- 각 값의 초기값\n",
        "  - slow = fast = head\n",
        "  - rev = None\n",
        "- 리스트의 길이\n",
        "  - 짝수\n",
        "  - 홀수: slow 런너가 한칸 더 앞으로 이동하여 중앙의 값을 빗겨나가야한다.\n",
        "    - (예시) 1, 2, 3, 2, 1 의 3은 중앙의 값으로, 팰린드롬 체크에서 배제\n",
        "    - (해결) fast가 아직 None이 아니라는 경우로 간주하여, slow를 한칸 더 이동\n",
        "- 팰린드롬 여부\n",
        "  - while rev and rev.val == slow.val\n",
        "    - rev.val == slow.val: 팰린드롬 여부\n",
        "    - rev: rev == None 일때 까지\n",
        "  - return not rev\n",
        "    - not None == True\n",
        "    - not (어떠한 값) == False: 조건2가 만족되지 않고 loop를 벗어나서 빈 연결리스트가 아니므로 False"
      ]
    },
    {
      "cell_type": "code",
      "metadata": {
        "colab": {
          "base_uri": "https://localhost:8080/"
        },
        "id": "AccUt8eechhp",
        "outputId": "40781525-f2c7-462c-bd99-a6e395b2583e"
      },
      "source": [
        "class Solution:\n",
        "    def isPalindrome(self, head: ListNode) -> bool:\n",
        "        rev = None\n",
        "        slow = fast = head\n",
        "\n",
        "        #  Runner\n",
        "        while fast and fast.next: # until fast.next not exists\n",
        "            fast = fast.next.next # by 2 steps\n",
        "            rev, rev.next, slow = slow, rev, slow.next\n",
        "        if fast: # odd nums\n",
        "            slow = slow.next\n",
        "\n",
        "        # isPalindrome\n",
        "        while rev and rev.val == slow.val:\n",
        "            slow, rev = slow.next, rev.next\n",
        "        return not rev\n",
        "\n",
        "solution = Solution()\n",
        "head1 = make_list([1, 2])\n",
        "result1: bool = solution.isPalindrome(head1)\n",
        "print(result1)\n",
        "\n",
        "head2 = make_list([1, 2, 2, 1])\n",
        "result2: bool = solution.isPalindrome(head2)\n",
        "print(result2)"
      ],
      "execution_count": 19,
      "outputs": [
        {
          "output_type": "stream",
          "name": "stdout",
          "text": [
            "False\n",
            "True\n"
          ]
        }
      ]
    },
    {
      "cell_type": "code",
      "metadata": {
        "colab": {
          "base_uri": "https://localhost:8080/"
        },
        "id": "7DOqCZUYlRZM",
        "outputId": "cb55bcd2-3af9-4ea4-bab4-e4c8a588dfdd"
      },
      "source": [
        "# Solution by Comdedu\n",
        "# sol1: using python list slicing\n",
        "def sol1(head):\n",
        "    nums = []\n",
        "    while head:\n",
        "        nums.append(head.val)\n",
        "        head = head.next\n",
        "    return nums == nums[::-1]\n",
        "\n",
        "head1 = make_list([1, 2])\n",
        "head2 = make_list([1, 2, 2, 1])\n",
        "sol1(head1), sol1(head2)"
      ],
      "execution_count": 24,
      "outputs": [
        {
          "output_type": "execute_result",
          "data": {
            "text/plain": [
              "(False, True)"
            ]
          },
          "metadata": {},
          "execution_count": 24
        }
      ]
    },
    {
      "cell_type": "code",
      "metadata": {
        "colab": {
          "base_uri": "https://localhost:8080/"
        },
        "id": "zScwpJXzjnzi",
        "outputId": "c1498487-34ac-45bc-c1c2-81534f591083"
      },
      "source": [
        "# sol2: memory improvement\n",
        "def sol2(head):\n",
        "    reverse = None\n",
        "    fast = head\n",
        "    slow = head # 같은 head를 참조한다.\n",
        "\n",
        "    while fast and fast.next:\n",
        "        fast = fast.next.next\n",
        "        reverse, reverse.next, slow = slow, reverse, slow.next # 참고 부분 확인\n",
        "    if fast:\n",
        "        slow = slow.next\n",
        "    while reverse and reverse.val == slow.val:\n",
        "        slow = slow.next\n",
        "        reverse = reverse.next\n",
        "    return not reverse\n",
        "\n",
        "head1 = make_list([1, 2])\n",
        "head2 = make_list([1, 2, 2, 1])\n",
        "sol2(head1), sol2(head2)"
      ],
      "execution_count": 25,
      "outputs": [
        {
          "output_type": "execute_result",
          "data": {
            "text/plain": [
              "(False, True)"
            ]
          },
          "metadata": {},
          "execution_count": 25
        }
      ]
    },
    {
      "cell_type": "markdown",
      "metadata": {
        "id": "E9DehZbJmJ3j"
      },
      "source": [
        "### 런너 기법\n",
        "\n",
        "- 연결 리스트를 순회할 때 2개의 포인터를 동시에 사용하는 기법이다.\n",
        "  - 한 포인터가 다른 포인터보다 앞서나간다.\n",
        "  - (활용) 병합지점이나 중간 위치, 길이 등을 판별\n",
        "- 연결 리스트 문제에서 반드시 활용된다."
      ]
    },
    {
      "cell_type": "markdown",
      "metadata": {
        "id": "UoU2o2AameaD"
      },
      "source": [
        "### Multiple Assignment (다중 할당)\n",
        "\n",
        "- 파이썬에서 다중 할당은 2개 이상의 값을 2개 이상의 변수에 동시에 할당하는 것을 말한다.\n",
        "  - (예시) a, b = 1, 2\n",
        "  - 튜플의 패턴 매치를 이용한다.\n",
        "- 가독성을 위해 위의 13의 문제 \"reverse, reverse.next, slow = slow, reverse, slow.next\" 부분을 \"rev, rev.next = slow, rev\"와 \"slow = slow.next\"로 분기하면 참조 문제가 생긴다.\n",
        "  - slow와 rev가 동일 참조가 된다.\n",
        "  - 구문 중간 rev = slow 가 문제가 된다.\n",
        "  - 파이썬의 특징: 값을 할당하는 것이 아닌 불변 객체(문자와 숫자)에 대한 참조를 할당\n",
        "- 예시: rev = 1, slow = 2->3이라고 가정하면 (이 경우, slow.next = 3)\n",
        "  - 분기가 없는 다중 할당: 1 transaction\n",
        "    - rev = 2->3, rev.next = 1, slow = 3\n",
        "    - rev = 2->1 (rev.next was 1), slow = 3\n",
        "  - 분기가 있는 경우: 나눠서 처리\n",
        "    - rev = 2->3, rev.next = 1 So rev = 2->1\n",
        "    - rev = slow 에 의해 slow 와 rev의 참조 값이 같았으므로 slow가 2->1인 불변 객체를 참조한다.\n",
        "    - slow.next = 1 (slow was 2->1) So slow = slow.next = 1 then slow = 1\n",
        "  - 다른 결과를 야기하므로 다중 할당으로 반드시 한번에 처리해야한다."
      ]
    }
  ]
}