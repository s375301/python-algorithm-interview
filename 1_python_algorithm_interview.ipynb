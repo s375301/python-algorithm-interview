{
  "nbformat": 4,
  "nbformat_minor": 0,
  "metadata": {
    "colab": {
      "name": "1-python-algorithm-interview.ipynb",
      "provenance": [],
      "collapsed_sections": [],
      "authorship_tag": "ABX9TyMyKuDqml0NZhvjqQfiNgO6",
      "include_colab_link": true
    },
    "kernelspec": {
      "name": "python3",
      "display_name": "Python 3"
    },
    "language_info": {
      "name": "python"
    }
  },
  "cells": [
    {
      "cell_type": "markdown",
      "metadata": {
        "id": "view-in-github",
        "colab_type": "text"
      },
      "source": [
        "<a href=\"https://colab.research.google.com/github/s375301/python-algorithm-interview/blob/main/1_python_algorithm_interview.ipynb\" target=\"_parent\"><img src=\"https://colab.research.google.com/assets/colab-badge.svg\" alt=\"Open In Colab\"/></a>"
      ]
    },
    {
      "cell_type": "code",
      "metadata": {
        "id": "oyPnsi0uyEDB"
      },
      "source": [
        "import numpy as np"
      ],
      "execution_count": null,
      "outputs": []
    },
    {
      "cell_type": "markdown",
      "metadata": {
        "id": "OHg6QrOP1_nJ"
      },
      "source": [
        "### **인덴트**"
      ]
    },
    {
      "cell_type": "code",
      "metadata": {
        "colab": {
          "base_uri": "https://localhost:8080/",
          "height": 226
        },
        "id": "SUsg_wzT0mlq",
        "outputId": "26389a76-aea4-474d-b93f-e747039a9a32"
      },
      "source": [
        "# PEP 8에 따라 공백 4칸을 원칙으로 한다.\n",
        "\n",
        "foo = long_function_name(var_one, var_two,\n",
        "                         var_three, var_four) # 파라미터가 첫째줄에 있다면, 파라미터가 시작되는 부분에 보기 좋게 맞춘다|"
      ],
      "execution_count": 3,
      "outputs": [
        {
          "output_type": "error",
          "ename": "NameError",
          "evalue": "ignored",
          "traceback": [
            "\u001b[0;31m---------------------------------------------------------------------------\u001b[0m",
            "\u001b[0;31mNameError\u001b[0m                                 Traceback (most recent call last)",
            "\u001b[0;32m<ipython-input-3-2d45753479a6>\u001b[0m in \u001b[0;36m<module>\u001b[0;34m()\u001b[0m\n\u001b[1;32m      1\u001b[0m \u001b[0;31m# PEP 8에 따라 공백 4칸을 원칙으로 한다.\u001b[0m\u001b[0;34m\u001b[0m\u001b[0;34m\u001b[0m\u001b[0;34m\u001b[0m\u001b[0m\n\u001b[1;32m      2\u001b[0m \u001b[0;34m\u001b[0m\u001b[0m\n\u001b[0;32m----> 3\u001b[0;31m foo = long_function_name(var_one, var_two,\n\u001b[0m\u001b[1;32m      4\u001b[0m                          var_three, var_four) # 파라미터가 첫째줄에 있다면, 파라미터가 시작되는 부분에 보기 좋게 맞춘다|\n",
            "\u001b[0;31mNameError\u001b[0m: name 'var_one' is not defined"
          ]
        }
      ]
    },
    {
      "cell_type": "code",
      "metadata": {
        "id": "Kn8AgFqJ0553"
      },
      "source": [
        "def long_function_name(\n",
        "        var_one, var_two, var_three, # 첫번째 줄에 파라미터가 없다면, 공백 4칸 인덴트 추가\n",
        "        var_four):\n",
        "    print(var_one) # 함수명에 맞춰 인덴트 추가"
      ],
      "execution_count": 2,
      "outputs": []
    },
    {
      "cell_type": "markdown",
      "metadata": {
        "id": "ZBCNsFFi2TEc"
      },
      "source": [
        "### **리스트 컴프리헨션**"
      ]
    },
    {
      "cell_type": "code",
      "metadata": {
        "colab": {
          "base_uri": "https://localhost:8080/"
        },
        "id": "gdBa06ZF1fJR",
        "outputId": "a0dae715-fa07-46ea-8a70-7abe73e1df0d"
      },
      "source": [
        "list(map(lambda x: x + 10, [1, 2, 3])) # lambda expression"
      ],
      "execution_count": 4,
      "outputs": [
        {
          "output_type": "execute_result",
          "data": {
            "text/plain": [
              "[11, 12, 13]"
            ]
          },
          "metadata": {
            "tags": []
          },
          "execution_count": 4
        }
      ]
    },
    {
      "cell_type": "code",
      "metadata": {
        "colab": {
          "base_uri": "https://localhost:8080/"
        },
        "id": "exPxwjw62mUc",
        "outputId": "b0d8ae01-b806-4304-f55d-384f9f3185b2"
      },
      "source": [
        "# 리스트 컴프리헨션이 람다 표현식에 map이나 filter를 섞어서 사용하는 것보다 가독성이 높다.\n",
        "[n * 2 for n in range(1, 10 + 1) if n % 2 == 1]"
      ],
      "execution_count": 5,
      "outputs": [
        {
          "output_type": "execute_result",
          "data": {
            "text/plain": [
              "[2, 6, 10, 14, 18]"
            ]
          },
          "metadata": {
            "tags": []
          },
          "execution_count": 5
        }
      ]
    },
    {
      "cell_type": "code",
      "metadata": {
        "colab": {
          "base_uri": "https://localhost:8080/"
        },
        "id": "zjjL_9Na3Is7",
        "outputId": "2e293079-b4dd-4c23-b07e-8af873f4fb71"
      },
      "source": [
        "# 리스트 컴프리헨션을 쓰지 않는다면 아래와 같은 긴 코드가 완성된다.\n",
        "a = []\n",
        "for n in range(1, 10 + 1):\n",
        "      if n % 2 == 1: # PEP 8\n",
        "          a.append(n * 2)\n",
        "a"
      ],
      "execution_count": 7,
      "outputs": [
        {
          "output_type": "execute_result",
          "data": {
            "text/plain": [
              "[2, 6, 10, 14, 18]"
            ]
          },
          "metadata": {
            "tags": []
          },
          "execution_count": 7
        }
      ]
    },
    {
      "cell_type": "code",
      "metadata": {
        "id": "4XGjmnOi3gCF"
      },
      "source": [
        "# 리스트 컴프리헨션은 리스트 뿐만 아니라 딕셔너리에도 쓰일 수 있다.\n",
        "# a = {key: value for key, value in original.items()}\n",
        "\n",
        "# a = {}\n",
        "# for key, value in original.items():\n",
        "#     a[key] = value"
      ],
      "execution_count": 9,
      "outputs": []
    },
    {
      "cell_type": "markdown",
      "metadata": {
        "id": "tHbqfXjV4vkJ"
      },
      "source": [
        "### **제너레이터**"
      ]
    },
    {
      "cell_type": "code",
      "metadata": {
        "id": "vi2QficD3xG_"
      },
      "source": [
        "# 제너레이터는 반복(Iteration) 루틴을 만들어준다\n",
        "\n",
        "def get_natural_number():\n",
        "    n = 0\n",
        "    while True :\n",
        "        n += 1\n",
        "        yield n\n",
        "\n",
        "# return 이 값을 리턴하고 모든 함수의 동작을 종료하는 것과 달리\n",
        "# yield 중간값을 리턴한 다음 함수는 종료되지 않고 맨 끝에 도달할 때까지 실행"
      ],
      "execution_count": 10,
      "outputs": []
    },
    {
      "cell_type": "code",
      "metadata": {
        "colab": {
          "base_uri": "https://localhost:8080/"
        },
        "id": "0l4tFUfw5a1h",
        "outputId": "39b776d9-97df-4496-d9a7-651b09123127"
      },
      "source": [
        "get_natural_number()\n",
        "# 이 함수의 return은 generator"
      ],
      "execution_count": 11,
      "outputs": [
        {
          "output_type": "execute_result",
          "data": {
            "text/plain": [
              "<generator object get_natural_number at 0x7f7e0b845d50>"
            ]
          },
          "metadata": {
            "tags": []
          },
          "execution_count": 11
        }
      ]
    },
    {
      "cell_type": "code",
      "metadata": {
        "colab": {
          "base_uri": "https://localhost:8080/"
        },
        "id": "-69tkyy85fkw",
        "outputId": "881c365f-96ea-426b-b96a-988ea7d56dff"
      },
      "source": [
        "g = get_natural_number()\n",
        "for _ in range(0, 100):\n",
        "    print(next(g)) # next()는 반복(Iterator)혹은 generator에서 값을 추출해준다."
      ],
      "execution_count": 12,
      "outputs": [
        {
          "output_type": "stream",
          "text": [
            "1\n",
            "2\n",
            "3\n",
            "4\n",
            "5\n",
            "6\n",
            "7\n",
            "8\n",
            "9\n",
            "10\n",
            "11\n",
            "12\n",
            "13\n",
            "14\n",
            "15\n",
            "16\n",
            "17\n",
            "18\n",
            "19\n",
            "20\n",
            "21\n",
            "22\n",
            "23\n",
            "24\n",
            "25\n",
            "26\n",
            "27\n",
            "28\n",
            "29\n",
            "30\n",
            "31\n",
            "32\n",
            "33\n",
            "34\n",
            "35\n",
            "36\n",
            "37\n",
            "38\n",
            "39\n",
            "40\n",
            "41\n",
            "42\n",
            "43\n",
            "44\n",
            "45\n",
            "46\n",
            "47\n",
            "48\n",
            "49\n",
            "50\n",
            "51\n",
            "52\n",
            "53\n",
            "54\n",
            "55\n",
            "56\n",
            "57\n",
            "58\n",
            "59\n",
            "60\n",
            "61\n",
            "62\n",
            "63\n",
            "64\n",
            "65\n",
            "66\n",
            "67\n",
            "68\n",
            "69\n",
            "70\n",
            "71\n",
            "72\n",
            "73\n",
            "74\n",
            "75\n",
            "76\n",
            "77\n",
            "78\n",
            "79\n",
            "80\n",
            "81\n",
            "82\n",
            "83\n",
            "84\n",
            "85\n",
            "86\n",
            "87\n",
            "88\n",
            "89\n",
            "90\n",
            "91\n",
            "92\n",
            "93\n",
            "94\n",
            "95\n",
            "96\n",
            "97\n",
            "98\n",
            "99\n",
            "100\n"
          ],
          "name": "stdout"
        }
      ]
    },
    {
      "cell_type": "code",
      "metadata": {
        "id": "ikw4WaKh58QD"
      },
      "source": [
        ""
      ],
      "execution_count": null,
      "outputs": []
    }
  ]
}