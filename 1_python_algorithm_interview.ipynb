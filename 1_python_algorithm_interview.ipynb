{
  "nbformat": 4,
  "nbformat_minor": 0,
  "metadata": {
    "colab": {
      "name": "1-python-algorithm-interview.ipynb",
      "provenance": [],
      "collapsed_sections": [],
      "authorship_tag": "ABX9TyOBY1v7frbX+YyTAjy3amlI",
      "include_colab_link": true
    },
    "kernelspec": {
      "name": "python3",
      "display_name": "Python 3"
    },
    "language_info": {
      "name": "python"
    }
  },
  "cells": [
    {
      "cell_type": "markdown",
      "metadata": {
        "id": "view-in-github",
        "colab_type": "text"
      },
      "source": [
        "<a href=\"https://colab.research.google.com/github/s375301/python-algorithm-interview/blob/main/1_python_algorithm_interview.ipynb\" target=\"_parent\"><img src=\"https://colab.research.google.com/assets/colab-badge.svg\" alt=\"Open In Colab\"/></a>"
      ]
    },
    {
      "cell_type": "code",
      "metadata": {
        "id": "oyPnsi0uyEDB"
      },
      "source": [
        "import numpy as np"
      ],
      "execution_count": 2,
      "outputs": []
    },
    {
      "cell_type": "markdown",
      "metadata": {
        "id": "OHg6QrOP1_nJ"
      },
      "source": [
        "### **인덴트**"
      ]
    },
    {
      "cell_type": "code",
      "metadata": {
        "colab": {
          "base_uri": "https://localhost:8080/",
          "height": 226
        },
        "id": "SUsg_wzT0mlq",
        "outputId": "47537f86-1142-48c0-95ec-4ea29d7c9639"
      },
      "source": [
        "# PEP 8에 따라 공백 4칸을 원칙으로 한다.\n",
        "\n",
        "foo = long_function_name(var_one, var_two,\n",
        "                         var_three, var_four) # 파라미터가 첫째줄에 있다면, 파라미터가 시작되는 부분에 보기 좋게 맞춘다|"
      ],
      "execution_count": 4,
      "outputs": [
        {
          "output_type": "error",
          "ename": "NameError",
          "evalue": "ignored",
          "traceback": [
            "\u001b[0;31m---------------------------------------------------------------------------\u001b[0m",
            "\u001b[0;31mNameError\u001b[0m                                 Traceback (most recent call last)",
            "\u001b[0;32m<ipython-input-4-2d45753479a6>\u001b[0m in \u001b[0;36m<module>\u001b[0;34m()\u001b[0m\n\u001b[1;32m      1\u001b[0m \u001b[0;31m# PEP 8에 따라 공백 4칸을 원칙으로 한다.\u001b[0m\u001b[0;34m\u001b[0m\u001b[0;34m\u001b[0m\u001b[0;34m\u001b[0m\u001b[0m\n\u001b[1;32m      2\u001b[0m \u001b[0;34m\u001b[0m\u001b[0m\n\u001b[0;32m----> 3\u001b[0;31m foo = long_function_name(var_one, var_two,\n\u001b[0m\u001b[1;32m      4\u001b[0m                          var_three, var_four) # 파라미터가 첫째줄에 있다면, 파라미터가 시작되는 부분에 보기 좋게 맞춘다|\n",
            "\u001b[0;31mNameError\u001b[0m: name 'long_function_name' is not defined"
          ]
        }
      ]
    },
    {
      "cell_type": "code",
      "metadata": {
        "id": "Kn8AgFqJ0553"
      },
      "source": [
        "def long_function_name(\n",
        "        var_one, var_two, var_three, # 첫번째 줄에 파라미터가 없다면, 공백 4칸 인덴트 추가\n",
        "        var_four):\n",
        "    print(var_one) # 함수명에 맞춰 인덴트 추가"
      ],
      "execution_count": 5,
      "outputs": []
    },
    {
      "cell_type": "markdown",
      "metadata": {
        "id": "ZBCNsFFi2TEc"
      },
      "source": [
        "### **리스트 컴프리헨션**"
      ]
    },
    {
      "cell_type": "code",
      "metadata": {
        "colab": {
          "base_uri": "https://localhost:8080/"
        },
        "id": "gdBa06ZF1fJR",
        "outputId": "b9c915ac-9d28-44dd-cb9d-756f77ae4a92"
      },
      "source": [
        "list(map(lambda x: x + 10, [1, 2, 3])) # lambda expression"
      ],
      "execution_count": 6,
      "outputs": [
        {
          "output_type": "execute_result",
          "data": {
            "text/plain": [
              "[11, 12, 13]"
            ]
          },
          "metadata": {
            "tags": []
          },
          "execution_count": 6
        }
      ]
    },
    {
      "cell_type": "code",
      "metadata": {
        "colab": {
          "base_uri": "https://localhost:8080/"
        },
        "id": "exPxwjw62mUc",
        "outputId": "3aca9376-10e9-4613-8406-960d9f78bebf"
      },
      "source": [
        "# 리스트 컴프리헨션이 람다 표현식에 map이나 filter를 섞어서 사용하는 것보다 가독성이 높다.\n",
        "[n * 2 for n in range(1, 10 + 1) if n % 2 == 1]"
      ],
      "execution_count": 7,
      "outputs": [
        {
          "output_type": "execute_result",
          "data": {
            "text/plain": [
              "[2, 6, 10, 14, 18]"
            ]
          },
          "metadata": {
            "tags": []
          },
          "execution_count": 7
        }
      ]
    },
    {
      "cell_type": "code",
      "metadata": {
        "colab": {
          "base_uri": "https://localhost:8080/"
        },
        "id": "zjjL_9Na3Is7",
        "outputId": "3ffc7baa-4488-4be1-9c51-fb2d3697ae02"
      },
      "source": [
        "# 리스트 컴프리헨션을 쓰지 않는다면 아래와 같은 긴 코드가 완성된다.\n",
        "a = []\n",
        "for n in range(1, 10 + 1):\n",
        "      if n % 2 == 1: # PEP 8\n",
        "          a.append(n * 2)\n",
        "a"
      ],
      "execution_count": 8,
      "outputs": [
        {
          "output_type": "execute_result",
          "data": {
            "text/plain": [
              "[2, 6, 10, 14, 18]"
            ]
          },
          "metadata": {
            "tags": []
          },
          "execution_count": 8
        }
      ]
    },
    {
      "cell_type": "code",
      "metadata": {
        "id": "4XGjmnOi3gCF"
      },
      "source": [
        "# 리스트 컴프리헨션은 리스트 뿐만 아니라 딕셔너리에도 쓰일 수 있다.\n",
        "# a = {key: value for key, value in original.items()}\n",
        "\n",
        "# a = {}\n",
        "# for key, value in original.items():\n",
        "#     a[key] = value"
      ],
      "execution_count": 9,
      "outputs": []
    },
    {
      "cell_type": "markdown",
      "metadata": {
        "id": "tHbqfXjV4vkJ"
      },
      "source": [
        "### **제너레이터**"
      ]
    },
    {
      "cell_type": "code",
      "metadata": {
        "id": "vi2QficD3xG_"
      },
      "source": [
        "# 제너레이터는 반복(Iteration) 루틴을 만들어준다\n",
        "\n",
        "def get_natural_number():\n",
        "    n = 0\n",
        "    while True :\n",
        "        n += 1\n",
        "        yield n\n",
        "\n",
        "# return 이 값을 리턴하고 모든 함수의 동작을 종료하는 것과 달리\n",
        "# yield 중간값을 리턴한 다음 함수는 종료되지 않고 맨 끝에 도달할 때까지 실행"
      ],
      "execution_count": 10,
      "outputs": []
    },
    {
      "cell_type": "code",
      "metadata": {
        "colab": {
          "base_uri": "https://localhost:8080/"
        },
        "id": "0l4tFUfw5a1h",
        "outputId": "f087c35d-4dd7-4ab9-ad42-7729f70f9cc2"
      },
      "source": [
        "get_natural_number()\n",
        "# 이 함수의 return은 generator"
      ],
      "execution_count": 11,
      "outputs": [
        {
          "output_type": "execute_result",
          "data": {
            "text/plain": [
              "<generator object get_natural_number at 0x7f4c736324d0>"
            ]
          },
          "metadata": {
            "tags": []
          },
          "execution_count": 11
        }
      ]
    },
    {
      "cell_type": "code",
      "metadata": {
        "colab": {
          "base_uri": "https://localhost:8080/"
        },
        "id": "-69tkyy85fkw",
        "outputId": "ebeb16ec-70f4-4f64-a754-c02882119f82"
      },
      "source": [
        "g = get_natural_number()\n",
        "for _ in range(0, 10):\n",
        "    print(next(g)) # next()는 반복(Iterator)혹은 generator에서 값을 추출해준다."
      ],
      "execution_count": 12,
      "outputs": [
        {
          "output_type": "stream",
          "text": [
            "1\n",
            "2\n",
            "3\n",
            "4\n",
            "5\n",
            "6\n",
            "7\n",
            "8\n",
            "9\n",
            "10\n"
          ],
          "name": "stdout"
        }
      ]
    },
    {
      "cell_type": "code",
      "metadata": {
        "colab": {
          "base_uri": "https://localhost:8080/",
          "height": 208
        },
        "id": "ikw4WaKh58QD",
        "outputId": "218b4aa1-ca57-4c43-9ac4-a92796604172"
      },
      "source": [
        "def get_natural_number_2():\n",
        "    n = 0\n",
        "    while True :\n",
        "        n += 1\n",
        "        return n\n",
        "\n",
        "p = get_natural_number_2()\n",
        "\n",
        "for _ in range(1, 10 + 1):\n",
        "    print(next(p)) # error b/c return != iterator"
      ],
      "execution_count": 13,
      "outputs": [
        {
          "output_type": "error",
          "ename": "TypeError",
          "evalue": "ignored",
          "traceback": [
            "\u001b[0;31m---------------------------------------------------------------------------\u001b[0m",
            "\u001b[0;31mTypeError\u001b[0m                                 Traceback (most recent call last)",
            "\u001b[0;32m<ipython-input-13-31f6d3837880>\u001b[0m in \u001b[0;36m<module>\u001b[0;34m()\u001b[0m\n\u001b[1;32m      8\u001b[0m \u001b[0;34m\u001b[0m\u001b[0m\n\u001b[1;32m      9\u001b[0m \u001b[0;32mfor\u001b[0m \u001b[0m_\u001b[0m \u001b[0;32min\u001b[0m \u001b[0mrange\u001b[0m\u001b[0;34m(\u001b[0m\u001b[0;36m1\u001b[0m\u001b[0;34m,\u001b[0m \u001b[0;36m10\u001b[0m \u001b[0;34m+\u001b[0m \u001b[0;36m1\u001b[0m\u001b[0;34m)\u001b[0m\u001b[0;34m:\u001b[0m\u001b[0;34m\u001b[0m\u001b[0;34m\u001b[0m\u001b[0m\n\u001b[0;32m---> 10\u001b[0;31m     \u001b[0mprint\u001b[0m\u001b[0;34m(\u001b[0m\u001b[0mnext\u001b[0m\u001b[0;34m(\u001b[0m\u001b[0mp\u001b[0m\u001b[0;34m)\u001b[0m\u001b[0;34m)\u001b[0m \u001b[0;31m# error b/c return != iterator\u001b[0m\u001b[0;34m\u001b[0m\u001b[0;34m\u001b[0m\u001b[0m\n\u001b[0m",
            "\u001b[0;31mTypeError\u001b[0m: 'int' object is not an iterator"
          ]
        }
      ]
    },
    {
      "cell_type": "code",
      "metadata": {
        "colab": {
          "base_uri": "https://localhost:8080/"
        },
        "id": "6yvNasHgTzli",
        "outputId": "fa028299-0043-4ab7-cce5-2fd7c2a39932"
      },
      "source": [
        "# 제너레이터는 여러타입의 값을 하나의 함수에서 생성 가능하다.\n",
        "\n",
        "def generator():\n",
        "    yield 1\n",
        "    yield 'string'\n",
        "    yield True\n",
        "\n",
        "g = generator()\n",
        "g"
      ],
      "execution_count": 14,
      "outputs": [
        {
          "output_type": "execute_result",
          "data": {
            "text/plain": [
              "<generator object generator at 0x7f4c73677c50>"
            ]
          },
          "metadata": {
            "tags": []
          },
          "execution_count": 14
        }
      ]
    },
    {
      "cell_type": "code",
      "metadata": {
        "colab": {
          "base_uri": "https://localhost:8080/"
        },
        "id": "EJzccaxZU4-i",
        "outputId": "a3111e7c-8e02-4efa-bc15-317188f5b7f7"
      },
      "source": [
        "for _ in range(0, 3):\n",
        "    print(next(g))"
      ],
      "execution_count": 15,
      "outputs": [
        {
          "output_type": "stream",
          "text": [
            "1\n",
            "string\n",
            "True\n"
          ],
          "name": "stdout"
        }
      ]
    },
    {
      "cell_type": "markdown",
      "metadata": {
        "id": "LdzaA12GceJm"
      },
      "source": [
        "### **자료형**"
      ]
    },
    {
      "cell_type": "code",
      "metadata": {
        "id": "yFr-8FPYVAA7",
        "colab": {
          "base_uri": "https://localhost:8080/"
        },
        "outputId": "abcf083a-99f9-4578-9640-01d7862f98e9"
      },
      "source": [
        "# 집합\n",
        "a = set()\n",
        "type(a)"
      ],
      "execution_count": 18,
      "outputs": [
        {
          "output_type": "execute_result",
          "data": {
            "text/plain": [
              "set"
            ]
          },
          "metadata": {
            "tags": []
          },
          "execution_count": 18
        }
      ]
    },
    {
      "cell_type": "code",
      "metadata": {
        "colab": {
          "base_uri": "https://localhost:8080/"
        },
        "id": "iHtWJji_coMi",
        "outputId": "9717e547-2c0a-4a45-cf31-dc8f01863354"
      },
      "source": [
        "a = {3, 2, 3, 5} # 집합은 중복된 값이 있을 경우 하나의 값만 유지한다.\n",
        "a"
      ],
      "execution_count": 20,
      "outputs": [
        {
          "output_type": "execute_result",
          "data": {
            "text/plain": [
              "{2, 3, 5}"
            ]
          },
          "metadata": {
            "tags": []
          },
          "execution_count": 20
        }
      ]
    },
    {
      "cell_type": "code",
      "metadata": {
        "colab": {
          "base_uri": "https://localhost:8080/"
        },
        "id": "DKDeiz68c7M-",
        "outputId": "6aad39c9-bd93-48b1-954b-f067b39ada14"
      },
      "source": [
        "# 문자열\n",
        "a = 'abc'\n",
        "print(id('abc'))\n",
        "print(id(a)) # a 변수는 처음에는 abc를 참조했다가\n",
        "\n",
        "a= 'def'\n",
        "print(id('def'))\n",
        "print(id(a)) # 이후에는 def를 참조하도록 변경되었을 뿐이다.\n",
        "\n",
        "# 문자열은 불변이다."
      ],
      "execution_count": 21,
      "outputs": [
        {
          "output_type": "stream",
          "text": [
            "139966955834480\n",
            "139966955834480\n",
            "139966954979120\n",
            "139966954979120\n"
          ],
          "name": "stdout"
        }
      ]
    },
    {
      "cell_type": "code",
      "metadata": {
        "colab": {
          "base_uri": "https://localhost:8080/",
          "height": 172
        },
        "id": "fe-e6sI7dXTj",
        "outputId": "c115a439-4ac5-4e13-f58e-0037281ae78a"
      },
      "source": [
        "a[1] = 'd'\n",
        "# 따라서 변경하기 위해 할당자 처리가 불가능하다."
      ],
      "execution_count": 22,
      "outputs": [
        {
          "output_type": "error",
          "ename": "TypeError",
          "evalue": "ignored",
          "traceback": [
            "\u001b[0;31m---------------------------------------------------------------------------\u001b[0m",
            "\u001b[0;31mTypeError\u001b[0m                                 Traceback (most recent call last)",
            "\u001b[0;32m<ipython-input-22-8d872f916c18>\u001b[0m in \u001b[0;36m<module>\u001b[0;34m()\u001b[0m\n\u001b[0;32m----> 1\u001b[0;31m \u001b[0ma\u001b[0m\u001b[0;34m[\u001b[0m\u001b[0;36m1\u001b[0m\u001b[0;34m]\u001b[0m \u001b[0;34m=\u001b[0m \u001b[0;34m'd'\u001b[0m\u001b[0;34m\u001b[0m\u001b[0;34m\u001b[0m\u001b[0m\n\u001b[0m",
            "\u001b[0;31mTypeError\u001b[0m: 'str' object does not support item assignment"
          ]
        }
      ]
    },
    {
      "cell_type": "code",
      "metadata": {
        "colab": {
          "base_uri": "https://localhost:8080/"
        },
        "id": "dQ6zhUWFdwbS",
        "outputId": "8fd95c17-41ea-479e-ba6d-e22684ff3f7b"
      },
      "source": [
        "# 가변 객체\n",
        "a = [1, 2, 3, 4, 5]\n",
        "b = a\n",
        "b"
      ],
      "execution_count": 23,
      "outputs": [
        {
          "output_type": "execute_result",
          "data": {
            "text/plain": [
              "[1, 2, 3, 4, 5]"
            ]
          },
          "metadata": {
            "tags": []
          },
          "execution_count": 23
        }
      ]
    },
    {
      "cell_type": "code",
      "metadata": {
        "colab": {
          "base_uri": "https://localhost:8080/"
        },
        "id": "DvCq2PH1et_r",
        "outputId": "1e824177-3ceb-4989-9567-d3b3d0093caa"
      },
      "source": [
        "a[2] = 4\n",
        "a, b\n",
        "\n",
        "# 만약 b가 int나 str을 참조하고 있다면 불변 객체라 변하지 않지만 list는 가변 객체라 얼마든지 일어날 수 있다."
      ],
      "execution_count": 25,
      "outputs": [
        {
          "output_type": "execute_result",
          "data": {
            "text/plain": [
              "([1, 2, 4, 4, 5], [1, 2, 4, 4, 5])"
            ]
          },
          "metadata": {
            "tags": []
          },
          "execution_count": 25
        }
      ]
    },
    {
      "cell_type": "markdown",
      "metadata": {
        "id": "PY_Q97BygMHh"
      },
      "source": [
        "### **리스트**"
      ]
    },
    {
      "cell_type": "code",
      "metadata": {
        "colab": {
          "base_uri": "https://localhost:8080/"
        },
        "id": "i8swJrKKe0jt",
        "outputId": "e0a13059-b4d0-4140-bc1d-e0664bf0e937"
      },
      "source": [
        "# 리스트의 주요 연산 시간복잡도\n",
        "a = [1, 2, 3, 4, 5]\n",
        "\n",
        "print(len(a)) # O(1)\n",
        "print(a[1]) # O(1)\n",
        "print(a[1:3]) # O(k)\n",
        "print(3 in a) # O(n)\n",
        "print(a.count(3)) # O(n)\n",
        "print(a.index(3)) # O(n)\n",
        "a.append(6) # O(1)\n",
        "print(a)\n",
        "print(a.pop()) # O(1) : 리스트 마지막 요소 추출, 스택 연산\n",
        "print(a.pop(0)) # O(n) : 리스트의 첫번째 요소 추출, 큐의 연산\n",
        "\n",
        "# pop()은 리스트에서 추출하며 기존 리스트를 삭제(변형)한다.\n",
        "\n",
        "del a[3] # i에 따라 다르며, 최악의 경우 O(n)\n",
        "print(a)\n",
        "a.sort() # O(n log n) : Timsort\n",
        "print(a)\n",
        "print(min(a), max(a)) # O(n) : 선형 탐색\n",
        "a.reverse() # O(n)"
      ],
      "execution_count": 34,
      "outputs": [
        {
          "output_type": "stream",
          "text": [
            "5\n",
            "2\n",
            "[2, 3]\n",
            "True\n",
            "1\n",
            "2\n",
            "[1, 2, 3, 4, 5, 6]\n",
            "6\n",
            "1\n",
            "[2, 3, 4]\n",
            "[2, 3, 4]\n",
            "2 4\n"
          ],
          "name": "stdout"
        }
      ]
    },
    {
      "cell_type": "code",
      "metadata": {
        "id": "FgKXBHRkg3NA"
      },
      "source": [
        "# 리스트의 선언\n",
        "a = list()\n",
        "a = []"
      ],
      "execution_count": 35,
      "outputs": []
    },
    {
      "cell_type": "code",
      "metadata": {
        "colab": {
          "base_uri": "https://localhost:8080/"
        },
        "id": "4bQ0QCBBiZ3T",
        "outputId": "abdee62e-1ca1-41a4-e967-8eb0fdf6b12f"
      },
      "source": [
        "a = [1, 2, 3]\n",
        "a.append(4) # append()는 요소를 추가할 수 있다.\n",
        "a.insert(3, 5) # insert()는 특정 위치의 인덱스를 지정해 요소를 추가한다.\n",
        "a"
      ],
      "execution_count": 36,
      "outputs": [
        {
          "output_type": "execute_result",
          "data": {
            "text/plain": [
              "[1, 2, 3, 5, 4]"
            ]
          },
          "metadata": {
            "tags": []
          },
          "execution_count": 36
        }
      ]
    },
    {
      "cell_type": "code",
      "metadata": {
        "colab": {
          "base_uri": "https://localhost:8080/"
        },
        "id": "VKVzjKmkiqk1",
        "outputId": "e68a3d6d-ceb5-465f-8f95-9288764de2c4"
      },
      "source": [
        "# 인덱싱과 슬라이싱\n",
        "print(a[3]) # 인덱싱\n",
        "print(a[1:3]) # 슬라이싱 : 문자열에 유용하게 활용되는 기능, 다른 언어와 달리 인덱스의 반복문이 필요 없다.\n",
        "print(a[:3]) # 시작 인덱스 생략\n",
        "print(a[2:]) # 종료 인덱스 생략\n",
        "print(a[1:4:2]) # step 활용"
      ],
      "execution_count": 41,
      "outputs": [
        {
          "output_type": "stream",
          "text": [
            "5\n",
            "[2, 3]\n",
            "[1, 2, 3]\n",
            "[3, 5, 4]\n",
            "[2, 5]\n"
          ],
          "name": "stdout"
        }
      ]
    },
    {
      "cell_type": "code",
      "metadata": {
        "colab": {
          "base_uri": "https://localhost:8080/"
        },
        "id": "U6nLRIdhi_Wr",
        "outputId": "e21cffd8-4e0b-4275-c881-b0a4125054dd"
      },
      "source": [
        "# IndexError\n",
        "try :\n",
        "    print(a[9])\n",
        "except IndexError:\n",
        "    print('not exist')\n",
        "\n",
        "# try 구문은 에러에 대한 예외 처리"
      ],
      "execution_count": 43,
      "outputs": [
        {
          "output_type": "stream",
          "text": [
            "not exist\n"
          ],
          "name": "stdout"
        }
      ]
    },
    {
      "cell_type": "code",
      "metadata": {
        "colab": {
          "base_uri": "https://localhost:8080/"
        },
        "id": "Rm8cMidDjuBT",
        "outputId": "cb4a36da-ccbc-4572-9246-c594e3aff958"
      },
      "source": [
        "# 리스트에서 요소 삭제하기\n",
        "a = [1, 2, 3, 5, 4, '안녕', True]\n",
        "\n",
        "del a[0] # 인덱스로 삭제하기\n",
        "print(a)\n",
        "\n",
        "a.remove(3) # 값으로 삭제하기\n",
        "print(a)\n",
        "\n",
        "a.pop(3) # 삭제될 값을 리턴하고 삭제가 진행 = 추출로 처리\n",
        "print(a)"
      ],
      "execution_count": 44,
      "outputs": [
        {
          "output_type": "stream",
          "text": [
            "[2, 3, 5, 4, '안녕', True]\n",
            "[2, 5, 4, '안녕', True]\n",
            "[2, 5, 4, True]\n"
          ],
          "name": "stdout"
        }
      ]
    },
    {
      "cell_type": "markdown",
      "metadata": {
        "id": "kEf48wHXqKhJ"
      },
      "source": [
        "### **딕셔너리**"
      ]
    },
    {
      "cell_type": "code",
      "metadata": {
        "id": "HxF1V3QTpjeR"
      },
      "source": [
        "# 딕셔너리의 주요 연산 시간 복잡도\n",
        "\n",
        "# len(a) : O(1)\n",
        "# a[key] : O(1)\n",
        "# a[key] = value : O(1)\n",
        "# key in a : O(1)"
      ],
      "execution_count": 46,
      "outputs": []
    },
    {
      "cell_type": "code",
      "metadata": {
        "colab": {
          "base_uri": "https://localhost:8080/"
        },
        "id": "8Kb5bmJSqvch",
        "outputId": "39c6af48-c310-4db9-e5ad-0e5c404023ae"
      },
      "source": [
        "# 딕셔너리 선언\n",
        "a = dict()\n",
        "a = {}\n",
        "\n",
        "type(a)"
      ],
      "execution_count": 47,
      "outputs": [
        {
          "output_type": "execute_result",
          "data": {
            "text/plain": [
              "dict"
            ]
          },
          "metadata": {
            "tags": []
          },
          "execution_count": 47
        }
      ]
    },
    {
      "cell_type": "code",
      "metadata": {
        "colab": {
          "base_uri": "https://localhost:8080/"
        },
        "id": "U94WrtQfrFky",
        "outputId": "27f2ee31-09c0-455e-85ee-ccb050dabbe4"
      },
      "source": [
        "a = {'key1':'value1', 'key2':'value2'} # 초기값을 지정해 선언\n",
        "a['key3'] = 'value3' # 나중에 별도로 선언하여 값을 할당\n",
        "\n",
        "a"
      ],
      "execution_count": 49,
      "outputs": [
        {
          "output_type": "execute_result",
          "data": {
            "text/plain": [
              "{'key1': 'value1', 'key2': 'value2', 'key3': 'value3'}"
            ]
          },
          "metadata": {
            "tags": []
          },
          "execution_count": 49
        }
      ]
    },
    {
      "cell_type": "code",
      "metadata": {
        "colab": {
          "base_uri": "https://localhost:8080/"
        },
        "id": "kOd-VpKmrmri",
        "outputId": "f9a1f2ea-628c-441e-dc36-c3d80af41861"
      },
      "source": [
        "# 예외 처리\n",
        "try :\n",
        "    print(a['key4'])\n",
        "except KeyError:\n",
        "    print('not exist')"
      ],
      "execution_count": 50,
      "outputs": [
        {
          "output_type": "stream",
          "text": [
            "not exist\n"
          ],
          "name": "stdout"
        }
      ]
    },
    {
      "cell_type": "code",
      "metadata": {
        "colab": {
          "base_uri": "https://localhost:8080/"
        },
        "id": "ovnSGD2irz9X",
        "outputId": "226ecb39-b0a4-49d5-c227-b27208c493ac"
      },
      "source": [
        "# 키가 존재하는 지 확인 방법\n",
        "'key4' in a"
      ],
      "execution_count": 53,
      "outputs": [
        {
          "output_type": "execute_result",
          "data": {
            "text/plain": [
              "False"
            ]
          },
          "metadata": {
            "tags": []
          },
          "execution_count": 53
        }
      ]
    },
    {
      "cell_type": "code",
      "metadata": {
        "colab": {
          "base_uri": "https://localhost:8080/"
        },
        "id": "G_SNBq16sC5y",
        "outputId": "bfe62abb-adeb-48cf-fa91-83e569c07f8e"
      },
      "source": [
        "# 키/값을 for 반복문으로 조회\n",
        "for k,v in a.items():\n",
        "    print(k,v)\n",
        "\n",
        "# 딕셔너리의 items() 메소드를 사용하면 키와 값을 각각 꺼내올 수 있따."
      ],
      "execution_count": 54,
      "outputs": [
        {
          "output_type": "stream",
          "text": [
            "key1 value1\n",
            "key2 value2\n",
            "key3 value3\n"
          ],
          "name": "stdout"
        }
      ]
    },
    {
      "cell_type": "code",
      "metadata": {
        "colab": {
          "base_uri": "https://localhost:8080/"
        },
        "id": "YArQhei5sQZy",
        "outputId": "13177f9d-9ac4-461f-feb6-8bc088d5fc22"
      },
      "source": [
        "# 딕셔너리 모듈 (1) : defaultdict 객체\n",
        "import collections\n",
        "\n",
        "a = collections.defaultdict(int)\n",
        "a['A'] = 5\n",
        "a['B'] = 4\n",
        "print(a)\n",
        "\n",
        "a['C'] +=1 # 존재하지 않는 키에 대해서 디폴트 0을 기준으로 자동생성 후 +1 연산 처리\n",
        "a"
      ],
      "execution_count": 58,
      "outputs": [
        {
          "output_type": "stream",
          "text": [
            "defaultdict(<class 'int'>, {'A': 5, 'B': 4})\n"
          ],
          "name": "stdout"
        },
        {
          "output_type": "execute_result",
          "data": {
            "text/plain": [
              "defaultdict(int, {'A': 5, 'B': 4, 'C': 1})"
            ]
          },
          "metadata": {
            "tags": []
          },
          "execution_count": 58
        }
      ]
    },
    {
      "cell_type": "code",
      "metadata": {
        "colab": {
          "base_uri": "https://localhost:8080/"
        },
        "id": "gcTwKzh4sscn",
        "outputId": "776a9626-5862-4644-ac53-a64305e91fc8"
      },
      "source": [
        "# 딕셔너리 모듈 (2) : Counter 객체\n",
        "\n",
        "a = [1, 2, 3, 4, 5, 5, 5, 6, 6]\n",
        "b = collections.Counter(a)\n",
        "print(b) # Counter 객체는 아이템에 대한 개수를 계산해 딕셔너리로 리턴\n",
        "print(type(b)) # 셀제로는 딕셔너리를 한번 더 래핑(Wrapping)한 클래스를 갖는다.\n",
        "b.most_common(2) # 가장 빈도 높은 요소 2개와 개수 추출"
      ],
      "execution_count": 63,
      "outputs": [
        {
          "output_type": "stream",
          "text": [
            "Counter({5: 3, 6: 2, 1: 1, 2: 1, 3: 1, 4: 1})\n",
            "<class 'collections.Counter'>\n"
          ],
          "name": "stdout"
        },
        {
          "output_type": "execute_result",
          "data": {
            "text/plain": [
              "[(5, 3), (6, 2)]"
            ]
          },
          "metadata": {
            "tags": []
          },
          "execution_count": 63
        }
      ]
    },
    {
      "cell_type": "code",
      "metadata": {
        "id": "IZx39gzvtZDi"
      },
      "source": [
        "# 딕셔너리 모듈 (3) : OrderedDict 객체 (파이썬 3.7부터는 개선)"
      ],
      "execution_count": 64,
      "outputs": []
    },
    {
      "cell_type": "markdown",
      "metadata": {
        "id": "RTWNxjU8uQB0"
      },
      "source": [
        "### **번 외**"
      ]
    },
    {
      "cell_type": "code",
      "metadata": {
        "colab": {
          "base_uri": "https://localhost:8080/"
        },
        "id": "h6Kha2DQuPr-",
        "outputId": "fbae3952-be20-4bef-d111-2d4579b12927"
      },
      "source": [
        "# 기호와 자료형\n",
        "\n",
        "print(type([]))\n",
        "print(type(()))\n",
        "print(type({}))\n",
        "print(type({1}))"
      ],
      "execution_count": 65,
      "outputs": [
        {
          "output_type": "stream",
          "text": [
            "<class 'list'>\n",
            "<class 'tuple'>\n",
            "<class 'dict'>\n",
            "<class 'set'>\n"
          ],
          "name": "stdout"
        }
      ]
    }
  ]
}