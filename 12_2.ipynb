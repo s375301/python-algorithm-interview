{
  "nbformat": 4,
  "nbformat_minor": 0,
  "metadata": {
    "colab": {
      "name": "12-2.ipynb",
      "provenance": [],
      "authorship_tag": "ABX9TyMHrmAKx8Cda9fYTVt5GO+4",
      "include_colab_link": true
    },
    "kernelspec": {
      "name": "python3",
      "display_name": "Python 3"
    },
    "language_info": {
      "name": "python"
    }
  },
  "cells": [
    {
      "cell_type": "markdown",
      "metadata": {
        "id": "view-in-github",
        "colab_type": "text"
      },
      "source": [
        "<a href=\"https://colab.research.google.com/github/s375301/python-algorithm-interview/blob/main/12_2.ipynb\" target=\"_parent\"><img src=\"https://colab.research.google.com/assets/colab-badge.svg\" alt=\"Open In Colab\"/></a>"
      ]
    },
    {
      "cell_type": "markdown",
      "metadata": {
        "id": "2E5IWz7drakg"
      },
      "source": [
        "### Leetcode 121. Best Time to Buy and Sell Stock\n",
        "\n",
        "#### *input*\n",
        "```py\n",
        "[7, 1, 5, 3, 6, 4]\n",
        "```\n",
        "#### *output*\n",
        "```py\n",
        "5\n",
        "```*italicized text*"
      ]
    },
    {
      "cell_type": "code",
      "metadata": {
        "id": "GjgAVaOdshzp"
      },
      "source": [
        "import sys"
      ],
      "execution_count": 3,
      "outputs": []
    },
    {
      "cell_type": "code",
      "metadata": {
        "id": "ocGni70FraXq"
      },
      "source": [
        "profit = -sys.maxsize\n",
        "min_price = sys.maxsize"
      ],
      "execution_count": 4,
      "outputs": []
    },
    {
      "cell_type": "code",
      "metadata": {
        "id": "jHcEN097rXAk"
      },
      "source": [
        "# 최댓값 변수는 최솟값으로, 최솟값 변수는 최댓값으로 지정한다.\n",
        "# 두 변수 모두 None으로 두게 된다면 TypeError를 발생시킬 수 있다.\n",
        "# 다만 입력값이 [] (빈 리스트) 인 경우, 자칙 -sys.maxsize가 리턴될 수 있으므로 0으로 하자.\n",
        "# 이유는 어짜피 최댓값은 0보다는 항상 커야 하기 때문이다."
      ],
      "execution_count": 10,
      "outputs": []
    },
    {
      "cell_type": "code",
      "metadata": {
        "id": "A3gJDQdbszFg"
      },
      "source": [
        "profit = 0\n",
        "min_price = sys.maxsize"
      ],
      "execution_count": 8,
      "outputs": []
    },
    {
      "cell_type": "code",
      "metadata": {
        "colab": {
          "base_uri": "https://localhost:8080/"
        },
        "id": "feLl7hbxtco6",
        "outputId": "439c6b07-1fec-47a4-dfc4-08840f9ceabd"
      },
      "source": [
        "class Solution:\n",
        "    def maxProfit(self, prices:list) -> int:\n",
        "        profit = 0\n",
        "        min_profit = sys.maxsize\n",
        "\n",
        "        # 최솟값과 최댓값을 계속 갱신\n",
        "        for price in prices:\n",
        "            min_profit = min(min_profit, price)\n",
        "            profit = max(profit, price - min_profit)\n",
        "\n",
        "        return profit\n",
        "\n",
        "test_case = [7, 1, 5, 3, 6, 4]\n",
        "solution = Solution()\n",
        "result: int = solution.maxProfit(test_case)\n",
        "result"
      ],
      "execution_count": 16,
      "outputs": [
        {
          "output_type": "execute_result",
          "data": {
            "text/plain": [
              "5"
            ]
          },
          "metadata": {
            "tags": []
          },
          "execution_count": 16
        }
      ]
    },
    {
      "cell_type": "code",
      "metadata": {
        "colab": {
          "base_uri": "https://localhost:8080/"
        },
        "id": "Rv4ODX5ouZ6-",
        "outputId": "c4d2831d-63fd-4801-d185-6504fe5dc917"
      },
      "source": [
        "result: int = solution.maxProfit([])\n",
        "result"
      ],
      "execution_count": 18,
      "outputs": [
        {
          "output_type": "execute_result",
          "data": {
            "text/plain": [
              "0"
            ]
          },
          "metadata": {
            "tags": []
          },
          "execution_count": 18
        }
      ]
    },
    {
      "cell_type": "code",
      "metadata": {
        "id": "ucxIEC_zrYnd"
      },
      "source": [
        "# 핵심 코드 x = fun(_, x) 꼴 (ex) min_price = min(min_price, price)\n",
        "# 위 코드는 O(n)의 형태로 풀이가 가능하다."
      ],
      "execution_count": 13,
      "outputs": []
    },
    {
      "cell_type": "markdown",
      "metadata": {
        "id": "HNMWMiwNu0ta"
      },
      "source": [
        "#### 그 외 : 최댓값과 최솟값\n",
        "\n",
        "* 최댓값에는 가장 낮은 값을 초기값으로 지정해야 어떤 값이든 최댓값이 교체된다.\n",
        "* 최솟값에는 가장 높은 값을 초기값으로 해야 어떤 값이든 최솟값이 바로 교체된다.\n",
        "* sys 모듈을 사용하면 시스템이 지정할 수 있는 가장 높은 값, 낮은 값을 활용할 수 있다.\n",
        "\n",
        "#### 무한대 값을 지정하는 방법\n",
        "1. mx, mn = -sys.maxsize, sys.maxsize\n",
        "2. mx, mn = float('-inf'), float('inf')\n",
        "3. (Not Use) mn = 99999"
      ]
    }
  ]
}